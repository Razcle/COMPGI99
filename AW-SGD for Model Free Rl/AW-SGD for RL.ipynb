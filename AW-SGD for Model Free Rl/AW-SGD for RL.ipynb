{
 "cells": [
  {
   "cell_type": "code",
   "execution_count": 26,
   "metadata": {
    "collapsed": false
   },
   "outputs": [],
   "source": [
    "import itertools\n",
    "import numpy as np\n",
    "import matplotlib.pyplot as plt\n",
    "from copy import copy\n",
    "import seaborn\n",
    "from max_binary_heap import *\n",
    "%matplotlib inline \n",
    "\n",
    "# Define MDP\n",
    "class blind_cliff_walk(object):\n",
    "    \"\"\"MDP for the blind cliff-walk problem\n",
    "    Action space is 1/0\n",
    "    Terminal State is -1\n",
    "    \"\"\"\n",
    "    \n",
    "    def __init__(self,max_state):\n",
    "        self.max_state = max_state\n",
    "        self.state = 0\n",
    "    \n",
    "    def step(self,action):\n",
    "\n",
    "        if self.state % 2 == 0:\n",
    "            if action == 1 and self.state < self.max_state-1:\n",
    "                self.state = self.state + 1\n",
    "                reward = 0\n",
    "            elif action == 1:\n",
    "                self.state = -1\n",
    "                reward = 1\n",
    "            elif action == 0:\n",
    "                self.state = -1\n",
    "                reward = 0\n",
    "            else:\n",
    "                print('not a valid action')\n",
    "                \n",
    "        else:\n",
    "            if action == 0 and self.state < self.max_state -1:\n",
    "                self.state = self.state + 1\n",
    "                reward = 0\n",
    "            elif action == 0:\n",
    "                self.state = -1\n",
    "                reward = 1\n",
    "            elif action == 1:\n",
    "                self.state = -1\n",
    "                reward = 0\n",
    "            else:\n",
    "                print('not a valid action')\n",
    "                \n",
    "        return self.state,reward      "
   ]
  },
  {
   "cell_type": "code",
   "execution_count": 27,
   "metadata": {
    "collapsed": false
   },
   "outputs": [],
   "source": [
    "def get_history(size):\n",
    "    \"\"\"Perform all possible actions on a cliff-walk of size \"size\" and return\n",
    "    the history as a list of lists each of wich contains <S,A,R,S'>\"\"\"\n",
    "    \n",
    "    actions = [seq for seq in itertools.product((0,1), repeat=size)]\n",
    "    history = []\n",
    "    \n",
    "    for action_group in actions:\n",
    "        # Get a new MDP\n",
    "        mdp = blind_cliff_walk(size)\n",
    "        for action in action_group:\n",
    "            # Take action and record transition\n",
    "            state = mdp.state\n",
    "            state_prime,reward = mdp.step(action)\n",
    "            history.append([state,action,reward,state_prime])\n",
    "            if state_prime == -1:\n",
    "                mdp.state = 0\n",
    "                break\n",
    "    return history"
   ]
  },
  {
   "cell_type": "code",
   "execution_count": 28,
   "metadata": {
    "collapsed": false
   },
   "outputs": [
    {
     "name": "stdout",
     "output_type": "stream",
     "text": [
      "[ 0.1  0.1  0.1  0.1  0.1  0.1  0.1  0.1  0.1  0.1]\n",
      "[ 0.08333333  0.16666667  0.25        0.33333333  0.41666667  0.66666667\n",
      "  0.75        0.83333333  0.91666667  1.        ]\n",
      "[ 0.08333333  0.08333333  0.08333333  0.08333333  0.08333333  0.25\n",
      "  0.08333333  0.08333333  0.08333333  0.08333333]\n"
     ]
    },
    {
     "data": {
      "text/plain": [
       "(array([  805.,   890.,   787.,   901.,   828.,  2514.,   853.,   817.,\n",
       "          781.,   824.]),\n",
       " array([ 0. ,  0.9,  1.8,  2.7,  3.6,  4.5,  5.4,  6.3,  7.2,  8.1,  9. ]),\n",
       " <a list of 10 Patch objects>)"
      ]
     },
     "execution_count": 28,
     "metadata": {},
     "output_type": "execute_result"
    },
    {
     "data": {
      "image/png": "[encoded data removed]",
      "text/plain": [
       "<matplotlib.figure.Figure at 0x110506050>"
      ]
     },
     "metadata": {},
     "output_type": "display_data"
    }
   ],
   "source": [
    "class discrete_distribution(object):\n",
    "    \"\"\" Discrete probability distribuiton on the range [1,N]\n",
    "    \"\"\"\n",
    "    \n",
    "    def __init__(self,probs):\n",
    "        \"\"\"Probs is a np array of probabilites\"\"\"\n",
    "        probs = np.abs(probs)\n",
    "        self.Z = float(np.sum(probs))\n",
    "        self.probs = probs/self.Z\n",
    "        self.cumsum = np.cumsum(self.probs)\n",
    "    \n",
    "    def probability(self,index):\n",
    "        return self.probs[index]\n",
    "    \n",
    "    def sample(self):\n",
    "        seed = np.random.random()\n",
    "        smp = 0\n",
    "        while(seed > self.cumsum[smp]):\n",
    "            smp = smp + 1\n",
    "        return smp\n",
    "    \n",
    "    def update_prob(self,index,prob):\n",
    "        prob = np.abs(prob)\n",
    "        self.probs = self.probs*self.Z\n",
    "        self.Z = self.Z - self.probs[index] + prob\n",
    "        self.probs[index] = prob\n",
    "        self.probs = self.probs/float(self.Z)\n",
    "        self.cumsum = np.cumsum(self.probs)\n",
    "\n",
    "x = discrete_distribution(np.ones(10))\n",
    "print(x.probs)\n",
    "\n",
    "\n",
    "x.update_prob(5,-3)\n",
    "print(x.cumsum)\n",
    "print(x.probs)\n",
    "draws = []\n",
    "\n",
    "for i in range(10000):\n",
    "    draws.append(x.sample())\n",
    "plt.hist(draws)\n",
    "    "
   ]
  },
  {
   "cell_type": "code",
   "execution_count": 29,
   "metadata": {
    "collapsed": false
   },
   "outputs": [],
   "source": [
    "def Q(state,action,theta):\n",
    "    \n",
    "    if state == -1:\n",
    "        return 0\n",
    "    else:\n",
    "        size = np.size(theta)/2\n",
    "        if action == 0:\n",
    "            return theta[state]\n",
    "        else:\n",
    "            return theta[state + size]\n",
    "\n",
    "def get_max_action(state,theta):\n",
    "    size = np.size(theta)/2\n",
    "    if theta[state] > theta[state + size]:\n",
    "        return 0\n",
    "    else:\n",
    "        return 1\n",
    "    \n",
    "def get_ground_truth(size):\n",
    "    \"\"\" Returns the optimal action value function\n",
    "    for the bcf model of size 'size' \"\"\"\n",
    "    \n",
    "    discounts = [(1-1.0/size)**(x) for x in range(size)][::-1]\n",
    "    discounts = discounts + discounts\n",
    "    left_actions = [m %2 for m in range(size)]\n",
    "    right_actions = copy(left_actions[1:])\n",
    "    right_actions.append((right_actions[-1]+1)%2)\n",
    "    \n",
    "    gt = left_actions + right_actions\n",
    "    \n",
    "    gt = [x*y for x,y in zip(gt,discounts)]\n",
    "    \n",
    "    return gt\n",
    "\n",
    "def mean_sq_er(ground_truth,theta):\n",
    "    size = np.size(theta)/2.0\n",
    "    return (((ground_truth - theta).sum())**2)/size\n"
   ]
  },
  {
   "cell_type": "code",
   "execution_count": 48,
   "metadata": {
    "collapsed": false
   },
   "outputs": [],
   "source": [
    "\n",
    "\n",
    "def experience_replay_bcf(size,rate,tol,theta_init):\n",
    "    \"\"\" Perform Q-Learning on the blind cliff walk MDP\n",
    "    with experience replay\"\"\"\n",
    "    \n",
    "    # Create Store for Thetas\n",
    "    thetas = []\n",
    "    errors = []\n",
    "    error = 10\n",
    "    count = 0\n",
    "    \n",
    "    # Get History\n",
    "    history = get_history(size)\n",
    "    \n",
    "    # Initialise discount and theta\n",
    "    theta = theta_init.copy()\n",
    "    theta_true = get_ground_truth(size)\n",
    "    gamma = 1 - 1.0/size\n",
    "    \n",
    "    #perform SGD/Q-learning\n",
    "    while(error > tol and count < 100*(2**size)):\n",
    "        #Sample transition\n",
    "        index = np.random.randint(np.shape(history)[0])\n",
    "        state,action,reward,state_prime = history[index]\n",
    "        # Calcualte TD-error\n",
    "        Q_1 = Q(state,action,theta)\n",
    "        action_max = get_max_action(state_prime,theta)\n",
    "        Q_prime = Q(state_prime,action_max,theta)\n",
    "        delta = (reward + gamma*Q_prime - Q_1)\n",
    "        #Updtate Theta\n",
    "        if action == 0:\n",
    "            theta[state] = theta[state] + rate*delta\n",
    "        elif action == 1:\n",
    "            theta[state + size] = theta[state + size] + rate*delta\n",
    "        error = mean_sq_er(theta_true,theta)\n",
    "        thetas.append(theta)\n",
    "        errors.append(error)\n",
    "        count = count + 1\n",
    "        \n",
    "    return thetas,errors,count\n",
    "\n",
    "\n",
    "def greedy_experience_replay_bcf(size,rate,tol,theta_init):\n",
    "    \"\"\" Perform Q-Learning on the blind cliff walk MDP\n",
    "    with experience replay\"\"\"\n",
    "    \n",
    "    # Create Store for Thetas and deltas and errors\n",
    "    delta_store = max_binary_heap()\n",
    "    thetas = []\n",
    "    errors = []\n",
    "    error = 10\n",
    "    count = 0\n",
    "    \n",
    "    # Get History\n",
    "    history = get_history(size)\n",
    "    np.random.shuffle(history)\n",
    "    priorities = [100]*len(history)\n",
    "    \n",
    "    for i in range(len(history)):\n",
    "        delta_store.insert(priorities[i],i)\n",
    "    \n",
    "    # Initialise discount and theta and theta_true\n",
    "    theta = theta_init.copy()\n",
    "    gamma = 1 - 1.0/size\n",
    "    theta_true = get_ground_truth(size)\n",
    "    \n",
    "    #perform SGD/Q-learning\n",
    "    while(error > tol and count < (100*2**size)):\n",
    "        #Sample transition\n",
    "        index = delta_store.get_max()[2]\n",
    "        #print(index)\n",
    "        state,action,reward,state_prime = history[index]\n",
    "        # Calcualte TD-error\n",
    "        Q_1 = Q(state,action,theta)\n",
    "        action_max = get_max_action(state_prime,theta)\n",
    "        Q_prime = Q(state_prime,action_max,theta)\n",
    "        delta = (reward + gamma*Q_prime - Q_1)\n",
    "        #Update Priorities\n",
    "        delta_store.insert(delta,index)\n",
    "        #Updtate Theta\n",
    "        if action == 0:\n",
    "            theta[state] = theta[state] + rate*delta\n",
    "        elif action == 1:\n",
    "            theta[state + size] = theta[state + size] + rate*delta\n",
    "        error = mean_sq_er(theta_true,theta)\n",
    "        thetas.append(theta)\n",
    "        errors.append(error)\n",
    "        count = count + 1\n",
    "    return thetas,errors,count\n",
    "\n",
    "def prop_experience_replay(size,rate,tol,theta_init):\n",
    "    \n",
    "    # Create Store for Thetas and deltas and errors\n",
    "    \n",
    "    thetas = []\n",
    "    errors = []\n",
    "    error = 10\n",
    "    count = 0\n",
    "    \n",
    "    # Get History\n",
    "    history = get_history(size)\n",
    "    np.random.shuffle(history)\n",
    "    priorities = np.ones(len(history))\n",
    "    delta_dist = discrete_distribution(priorities)\n",
    "    \n",
    "    # Initialise discount and theta and theta_true\n",
    "    theta = theta_init.copy()\n",
    "    gamma = 1 - 1.0/size\n",
    "    theta_true = get_ground_truth(size)\n",
    "    \n",
    "    while(error > tol and count < (100*2**size)):\n",
    "        # Sample a transition\n",
    "        index = delta_dist.sample()\n",
    "        state,action,reward,state_prime = history[index]\n",
    "        #Calculate Importance Weight\n",
    "        weight = 1.0/(2*size*delta_dist.probability(index))\n",
    "        #Compute the TD-Error\n",
    "        Q_1 = Q(state,action,theta)\n",
    "        action_max = get_max_action(state_prime,theta)\n",
    "        Q_prime = Q(state_prime,action_max,theta)\n",
    "        delta = (reward + gamma*Q_prime - Q_1)\n",
    "        #Update theta\n",
    "        if action == 0:\n",
    "            theta[state] = theta[state] + rate*delta\n",
    "        elif action == 1:\n",
    "            theta[state + size] = theta[state + size] + rate*delta   \n",
    "        # Update probability distribution\n",
    "        delta_dist.update_prob(index,abs(delta))\n",
    "        # Calculate errors and store \n",
    "        error = mean_sq_er(theta_true,theta)\n",
    "        thetas.append(theta)\n",
    "        errors.append(error)\n",
    "        count = count + 1\n",
    "        \n",
    "    return thetas,errors,count\n",
    "    \n",
    "    "
   ]
  },
  {
   "cell_type": "code",
   "execution_count": 31,
   "metadata": {
    "collapsed": false
   },
   "outputs": [
    {
     "name": "stdout",
     "output_type": "stream",
     "text": [
      "36.7150771618\n"
     ]
    }
   ],
   "source": [
    "\n",
    "size = 10\n",
    "import time\n",
    "time1 = time.time()\n",
    "theta_init = np.random.normal(0,0.1,size*2)\n",
    "#thetas,mse_gr,count1 = greedy_experience_replay_bcf(size,0.25,0.01,theta_init)\n",
    "thetas2,mse,count2 = experience_replay_bcf(size,0.25,0.01,theta_init)\n",
    "thetas3,mse_prop,delta_dist = prop_experience_replay(size,0.25,0.01,theta_init)\n",
    "print(time.time() - time1)"
   ]
  },
  {
   "cell_type": "code",
   "execution_count": 34,
   "metadata": {
    "collapsed": false,
    "scrolled": true
   },
   "outputs": [
    {
     "data": {
      "image/png": "[encoded data removed]",
      "text/plain": [
       "<matplotlib.figure.Figure at 0x10a229150>"
      ]
     },
     "metadata": {},
     "output_type": "display_data"
    },
    {
     "data": {
      "text/plain": [
       "0.0099934742514927975"
      ]
     },
     "execution_count": 34,
     "metadata": {},
     "output_type": "execute_result"
    }
   ],
   "source": [
    "#plt.plot(mse_gr,c = 'b')\n",
    "plt.plot(mse,c = 'r')\n",
    "plt.plot(mse_prop,c='g')\n",
    "plt.show()\n",
    "mse_prop[-1]"
   ]
  },
  {
   "cell_type": "code",
   "execution_count": 51,
   "metadata": {
    "collapsed": false
   },
   "outputs": [
    {
     "name": "stdout",
     "output_type": "stream",
     "text": [
      "------------ Running Experiment 0 of Size 2---------------\n",
      "------------ Running Experiment 1 of Size 2---------------\n",
      "------------ Running Experiment 2 of Size 2---------------\n",
      "------------ Running Experiment 3 of Size 2---------------\n",
      "------------ Running Experiment 4 of Size 2---------------\n",
      "------------ Running Experiment 5 of Size 2---------------\n",
      "------------ Running Experiment 6 of Size 2---------------\n",
      "------------ Running Experiment 7 of Size 2---------------\n",
      "------------ Running Experiment 8 of Size 2---------------\n",
      "------------ Running Experiment 9 of Size 2---------------\n",
      "------------ Running Experiment 0 of Size 3---------------\n",
      "------------ Running Experiment 1 of Size 3---------------\n",
      "------------ Running Experiment 2 of Size 3---------------\n",
      "------------ Running Experiment 3 of Size 3---------------\n",
      "------------ Running Experiment 4 of Size 3---------------\n",
      "------------ Running Experiment 5 of Size 3---------------\n",
      "------------ Running Experiment 6 of Size 3---------------\n",
      "------------ Running Experiment 7 of Size 3---------------\n",
      "------------ Running Experiment 8 of Size 3---------------\n",
      "------------ Running Experiment 9 of Size 3---------------\n",
      "------------ Running Experiment 0 of Size 4---------------\n",
      "------------ Running Experiment 1 of Size 4---------------\n",
      "------------ Running Experiment 2 of Size 4---------------\n",
      "------------ Running Experiment 3 of Size 4---------------\n",
      "------------ Running Experiment 4 of Size 4---------------\n",
      "------------ Running Experiment 5 of Size 4---------------\n",
      "------------ Running Experiment 6 of Size 4---------------\n",
      "------------ Running Experiment 7 of Size 4---------------\n",
      "------------ Running Experiment 8 of Size 4---------------\n",
      "------------ Running Experiment 9 of Size 4---------------\n",
      "------------ Running Experiment 0 of Size 5---------------\n",
      "------------ Running Experiment 1 of Size 5---------------\n",
      "------------ Running Experiment 2 of Size 5---------------\n",
      "------------ Running Experiment 3 of Size 5---------------\n",
      "------------ Running Experiment 4 of Size 5---------------\n",
      "------------ Running Experiment 5 of Size 5---------------\n",
      "------------ Running Experiment 6 of Size 5---------------\n",
      "------------ Running Experiment 7 of Size 5---------------\n",
      "------------ Running Experiment 8 of Size 5---------------\n",
      "------------ Running Experiment 9 of Size 5---------------\n",
      "------------ Running Experiment 0 of Size 6---------------\n",
      "------------ Running Experiment 1 of Size 6---------------\n",
      "------------ Running Experiment 2 of Size 6---------------\n",
      "------------ Running Experiment 3 of Size 6---------------\n",
      "------------ Running Experiment 4 of Size 6---------------\n",
      "------------ Running Experiment 5 of Size 6---------------\n",
      "------------ Running Experiment 6 of Size 6---------------\n",
      "------------ Running Experiment 7 of Size 6---------------\n",
      "------------ Running Experiment 8 of Size 6---------------\n",
      "------------ Running Experiment 9 of Size 6---------------\n",
      "------------ Running Experiment 0 of Size 7---------------\n",
      "------------ Running Experiment 1 of Size 7---------------\n",
      "------------ Running Experiment 2 of Size 7---------------\n",
      "------------ Running Experiment 3 of Size 7---------------\n",
      "------------ Running Experiment 4 of Size 7---------------\n",
      "------------ Running Experiment 5 of Size 7---------------\n",
      "------------ Running Experiment 6 of Size 7---------------\n",
      "------------ Running Experiment 7 of Size 7---------------\n",
      "------------ Running Experiment 8 of Size 7---------------\n",
      "------------ Running Experiment 9 of Size 7---------------\n",
      "------------ Running Experiment 0 of Size 8---------------\n",
      "------------ Running Experiment 1 of Size 8---------------\n",
      "------------ Running Experiment 2 of Size 8---------------\n",
      "------------ Running Experiment 3 of Size 8---------------\n",
      "------------ Running Experiment 4 of Size 8---------------\n",
      "------------ Running Experiment 5 of Size 8---------------\n",
      "------------ Running Experiment 6 of Size 8---------------\n",
      "------------ Running Experiment 7 of Size 8---------------\n",
      "------------ Running Experiment 8 of Size 8---------------\n",
      "------------ Running Experiment 9 of Size 8---------------\n",
      "------------ Running Experiment 0 of Size 9---------------\n",
      "------------ Running Experiment 1 of Size 9---------------\n",
      "------------ Running Experiment 2 of Size 9---------------\n",
      "------------ Running Experiment 3 of Size 9---------------\n",
      "------------ Running Experiment 4 of Size 9---------------\n",
      "------------ Running Experiment 5 of Size 9---------------\n",
      "------------ Running Experiment 6 of Size 9---------------\n",
      "------------ Running Experiment 7 of Size 9---------------\n",
      "------------ Running Experiment 8 of Size 9---------------\n",
      "------------ Running Experiment 9 of Size 9---------------\n",
      "------------ Running Experiment 0 of Size 10---------------\n",
      "------------ Running Experiment 1 of Size 10---------------\n",
      "------------ Running Experiment 2 of Size 10---------------\n",
      "------------ Running Experiment 3 of Size 10---------------\n",
      "------------ Running Experiment 4 of Size 10---------------\n",
      "------------ Running Experiment 5 of Size 10---------------\n",
      "------------ Running Experiment 6 of Size 10---------------\n",
      "------------ Running Experiment 7 of Size 10---------------\n",
      "------------ Running Experiment 8 of Size 10---------------\n",
      "------------ Running Experiment 9 of Size 10---------------\n",
      "------------ Running Experiment 0 of Size 11---------------\n"
     ]
    },
    {
     "ename": "KeyboardInterrupt",
     "evalue": "",
     "output_type": "error",
     "traceback": [
      "\u001b[0;31m---------------------------------------------------------------------------\u001b[0m",
      "\u001b[0;31mKeyboardInterrupt\u001b[0m                         Traceback (most recent call last)",
      "\u001b[0;32m<ipython-input-51-3a8555a16b25>\u001b[0m in \u001b[0;36m<module>\u001b[0;34m()\u001b[0m\n\u001b[1;32m     13\u001b[0m \u001b[0;34m\u001b[0m\u001b[0m\n\u001b[1;32m     14\u001b[0m         \u001b[0m_\u001b[0m\u001b[0;34m,\u001b[0m\u001b[0m_\u001b[0m\u001b[0;34m,\u001b[0m\u001b[0mcountpr\u001b[0m \u001b[0;34m=\u001b[0m \u001b[0mprop_experience_replay\u001b[0m\u001b[0;34m(\u001b[0m\u001b[0msize\u001b[0m\u001b[0;34m,\u001b[0m\u001b[0;36m0.25\u001b[0m\u001b[0;34m,\u001b[0m\u001b[0;36m0.01\u001b[0m\u001b[0;34m,\u001b[0m\u001b[0mtheta_init\u001b[0m\u001b[0;34m)\u001b[0m\u001b[0;34m\u001b[0m\u001b[0m\n\u001b[0;32m---> 15\u001b[0;31m         \u001b[0m_\u001b[0m\u001b[0;34m,\u001b[0m\u001b[0m_\u001b[0m\u001b[0;34m,\u001b[0m\u001b[0mcountvn\u001b[0m \u001b[0;34m=\u001b[0m \u001b[0mexperience_replay_bcf\u001b[0m\u001b[0;34m(\u001b[0m\u001b[0msize\u001b[0m\u001b[0;34m,\u001b[0m\u001b[0;36m0.25\u001b[0m\u001b[0;34m,\u001b[0m\u001b[0;36m0.01\u001b[0m\u001b[0;34m,\u001b[0m\u001b[0mtheta_init\u001b[0m\u001b[0;34m)\u001b[0m\u001b[0;34m\u001b[0m\u001b[0m\n\u001b[0m\u001b[1;32m     16\u001b[0m         \u001b[0mcounts_pr\u001b[0m\u001b[0;34m.\u001b[0m\u001b[0mappend\u001b[0m\u001b[0;34m(\u001b[0m\u001b[0mcountpr\u001b[0m\u001b[0;34m)\u001b[0m\u001b[0;34m\u001b[0m\u001b[0m\n\u001b[1;32m     17\u001b[0m         \u001b[0mcounts_vn\u001b[0m\u001b[0;34m.\u001b[0m\u001b[0mappend\u001b[0m\u001b[0;34m(\u001b[0m\u001b[0mcountvn\u001b[0m\u001b[0;34m)\u001b[0m\u001b[0;34m\u001b[0m\u001b[0m\n",
      "\u001b[0;32m<ipython-input-48-0b4b100d426a>\u001b[0m in \u001b[0;36mexperience_replay_bcf\u001b[0;34m(size, rate, tol, theta_init)\u001b[0m\n\u001b[1;32m     22\u001b[0m     \u001b[0;32mwhile\u001b[0m\u001b[0;34m(\u001b[0m\u001b[0merror\u001b[0m \u001b[0;34m>\u001b[0m \u001b[0mtol\u001b[0m \u001b[0;32mand\u001b[0m \u001b[0mcount\u001b[0m \u001b[0;34m<\u001b[0m \u001b[0;36m100\u001b[0m\u001b[0;34m*\u001b[0m\u001b[0;34m(\u001b[0m\u001b[0;36m2\u001b[0m\u001b[0;34m**\u001b[0m\u001b[0msize\u001b[0m\u001b[0;34m)\u001b[0m\u001b[0;34m)\u001b[0m\u001b[0;34m:\u001b[0m\u001b[0;34m\u001b[0m\u001b[0m\n\u001b[1;32m     23\u001b[0m         \u001b[0;31m#Sample transition\u001b[0m\u001b[0;34m\u001b[0m\u001b[0;34m\u001b[0m\u001b[0m\n\u001b[0;32m---> 24\u001b[0;31m         \u001b[0mindex\u001b[0m \u001b[0;34m=\u001b[0m \u001b[0mnp\u001b[0m\u001b[0;34m.\u001b[0m\u001b[0mrandom\u001b[0m\u001b[0;34m.\u001b[0m\u001b[0mrandint\u001b[0m\u001b[0;34m(\u001b[0m\u001b[0mnp\u001b[0m\u001b[0;34m.\u001b[0m\u001b[0mshape\u001b[0m\u001b[0;34m(\u001b[0m\u001b[0mhistory\u001b[0m\u001b[0;34m)\u001b[0m\u001b[0;34m[\u001b[0m\u001b[0;36m0\u001b[0m\u001b[0;34m]\u001b[0m\u001b[0;34m)\u001b[0m\u001b[0;34m\u001b[0m\u001b[0m\n\u001b[0m\u001b[1;32m     25\u001b[0m         \u001b[0mstate\u001b[0m\u001b[0;34m,\u001b[0m\u001b[0maction\u001b[0m\u001b[0;34m,\u001b[0m\u001b[0mreward\u001b[0m\u001b[0;34m,\u001b[0m\u001b[0mstate_prime\u001b[0m \u001b[0;34m=\u001b[0m \u001b[0mhistory\u001b[0m\u001b[0;34m[\u001b[0m\u001b[0mindex\u001b[0m\u001b[0;34m]\u001b[0m\u001b[0;34m\u001b[0m\u001b[0m\n\u001b[1;32m     26\u001b[0m         \u001b[0;31m# Calcualte TD-error\u001b[0m\u001b[0;34m\u001b[0m\u001b[0;34m\u001b[0m\u001b[0m\n",
      "\u001b[0;32m/usr/local/lib/python2.7/site-packages/numpy/core/fromnumeric.pyc\u001b[0m in \u001b[0;36mshape\u001b[0;34m(a)\u001b[0m\n\u001b[1;32m   1607\u001b[0m         \u001b[0mresult\u001b[0m \u001b[0;34m=\u001b[0m \u001b[0ma\u001b[0m\u001b[0;34m.\u001b[0m\u001b[0mshape\u001b[0m\u001b[0;34m\u001b[0m\u001b[0m\n\u001b[1;32m   1608\u001b[0m     \u001b[0;32mexcept\u001b[0m \u001b[0mAttributeError\u001b[0m\u001b[0;34m:\u001b[0m\u001b[0;34m\u001b[0m\u001b[0m\n\u001b[0;32m-> 1609\u001b[0;31m         \u001b[0mresult\u001b[0m \u001b[0;34m=\u001b[0m \u001b[0masarray\u001b[0m\u001b[0;34m(\u001b[0m\u001b[0ma\u001b[0m\u001b[0;34m)\u001b[0m\u001b[0;34m.\u001b[0m\u001b[0mshape\u001b[0m\u001b[0;34m\u001b[0m\u001b[0m\n\u001b[0m\u001b[1;32m   1610\u001b[0m     \u001b[0;32mreturn\u001b[0m \u001b[0mresult\u001b[0m\u001b[0;34m\u001b[0m\u001b[0m\n\u001b[1;32m   1611\u001b[0m \u001b[0;34m\u001b[0m\u001b[0m\n",
      "\u001b[0;32m/usr/local/lib/python2.7/site-packages/numpy/core/numeric.pyc\u001b[0m in \u001b[0;36masarray\u001b[0;34m(a, dtype, order)\u001b[0m\n\u001b[1;32m    472\u001b[0m \u001b[0;34m\u001b[0m\u001b[0m\n\u001b[1;32m    473\u001b[0m     \"\"\"\n\u001b[0;32m--> 474\u001b[0;31m     \u001b[0;32mreturn\u001b[0m \u001b[0marray\u001b[0m\u001b[0;34m(\u001b[0m\u001b[0ma\u001b[0m\u001b[0;34m,\u001b[0m \u001b[0mdtype\u001b[0m\u001b[0;34m,\u001b[0m \u001b[0mcopy\u001b[0m\u001b[0;34m=\u001b[0m\u001b[0mFalse\u001b[0m\u001b[0;34m,\u001b[0m \u001b[0morder\u001b[0m\u001b[0;34m=\u001b[0m\u001b[0morder\u001b[0m\u001b[0;34m)\u001b[0m\u001b[0;34m\u001b[0m\u001b[0m\n\u001b[0m\u001b[1;32m    475\u001b[0m \u001b[0;34m\u001b[0m\u001b[0m\n\u001b[1;32m    476\u001b[0m \u001b[0;32mdef\u001b[0m \u001b[0masanyarray\u001b[0m\u001b[0;34m(\u001b[0m\u001b[0ma\u001b[0m\u001b[0;34m,\u001b[0m \u001b[0mdtype\u001b[0m\u001b[0;34m=\u001b[0m\u001b[0mNone\u001b[0m\u001b[0;34m,\u001b[0m \u001b[0morder\u001b[0m\u001b[0;34m=\u001b[0m\u001b[0mNone\u001b[0m\u001b[0;34m)\u001b[0m\u001b[0;34m:\u001b[0m\u001b[0;34m\u001b[0m\u001b[0m\n",
      "\u001b[0;31mKeyboardInterrupt\u001b[0m: "
     ]
    }
   ],
   "source": [
    "# Calculate the number of iterations to converge to MSE 1e-3 for prop and Non-Greedy Experience Replay\n",
    "\n",
    "experiments_pr = []\n",
    "experiments_vn = []\n",
    "\n",
    "for size in range(10):\n",
    "    size = size + 2\n",
    "    theta_init = np.random.normal(0,0.1,size*2)\n",
    "    counts_pr = []\n",
    "    counts_vn = []\n",
    "    for exper in range(10):\n",
    "        print(\"------------ Running Experiment {} of Size {}---------------\".format(exper,size))\n",
    "        \n",
    "        _,_,countpr = prop_experience_replay(size,0.25,0.01,theta_init)\n",
    "        _,_,countvn = experience_replay_bcf(size,0.25,0.01,theta_init)\n",
    "        counts_pr.append(countpr)\n",
    "        counts_vn.append(countvn)\n",
    "    \n",
    "    experiments_pr.append(counts_pr)\n",
    "    experiments_vn.append(counts_vn)\n",
    "        \n",
    "        \n"
   ]
  },
  {
   "cell_type": "code",
   "execution_count": 61,
   "metadata": {
    "collapsed": false
   },
   "outputs": [
    {
     "name": "stdout",
     "output_type": "stream",
     "text": [
      "9\n",
      "[[30, 28, 30, 28, 30, 27, 29, 27, 24, 31], [67, 70, 64, 60, 64, 73, 62, 82, 57, 64], [123, 143, 126, 118, 130, 136, 149, 131, 128, 124], [232, 216, 189, 204, 199, 205, 221, 201, 199, 238], [392, 401, 320, 365, 360, 349, 363, 340, 357, 342], [565, 608, 609, 563, 573, 544, 545, 635, 572, 612], [923, 1010, 1062, 996, 977, 1005, 1025, 937, 1062, 1081], [1455, 1461, 1402, 1644, 1459, 1402, 1442, 1432, 1483, 1512], [2764, 2666, 2797, 2666, 2703, 2654, 2629, 2765, 2704, 2860]]\n"
     ]
    }
   ],
   "source": [
    "print(len(experiments_vn))\n",
    "print(experiments_pr)"
   ]
  },
  {
   "cell_type": "code",
   "execution_count": 12,
   "metadata": {
    "collapsed": true
   },
   "outputs": [],
   "source": [
    "experiments = [[63, 52, 59, 45, 66, 80, 61, 53, 88, 62], [185, 159, 171, 137, 104, 143, 121, 107, 167, 132], [411, 331, 493, 291, 417, 367, 328, 436, 408, 309], [930, 585, 820, 741, 348, 779, 602, 576, 927, 910], [2122, 1813, 1748, 2420, 1993, 1812, 2038, 1476, 1588, 2329], [3116, 3089, 3894, 3174, 4014, 2912, 4628, 3891, 3146, 2965], [6239, 5728, 8671, 8411, 5574, 5636, 5413, 5356, 5598, 7223], [19504, 18574, 15483, 19439, 14643, 15835, 13749, 17218, 12703, 15885], [36644, 36865, 26655, 33464, 27443, 31275, 32119, 25651, 25570, 34765]]\n",
    "experiments_gr = [[25, 25, 25, 25, 25, 25, 25, 25, 25, 25], [53, 54, 54, 54, 54, 54, 54, 54, 54, 54], [82, 84, 181, 82, 82, 114, 84, 106, 1600, 83], [3200, 129, 3200, 3200, 3200, 161, 3200, 3200, 3200, 133], [6400, 217, 6400, 276, 221, 276, 6400, 305, 6400, 269], [12800, 12800, 417, 12800, 12800, 12800, 12800, 12800, 12800, 12800], [25600, 25600, 25600, 25600, 25600, 25600, 25600, 25600, 25600, 25600], [51200, 51200, 51200, 51200, 51200, 51200, 51200, 51200, 51200, 51200], [102400, 102400, 102400, 102400, 102400, 102400, 102400, 102400, 102400, 102400]]"
   ]
  },
  {
   "cell_type": "code",
   "execution_count": 67,
   "metadata": {
    "collapsed": false
   },
   "outputs": [
    {
     "data": {
      "text/plain": [
       "<matplotlib.legend.Legend at 0x1110e4ad0>"
      ]
     },
     "execution_count": 67,
     "metadata": {},
     "output_type": "execute_result"
    },
    {
     "data": {
      "image/png": "[encoded data removed]",
      "text/plain": [
       "<matplotlib.figure.Figure at 0x11124d690>"
      ]
     },
     "metadata": {},
     "output_type": "display_data"
    }
   ],
   "source": [
    "y_vn = [np.mean(alist) for alist in experiments_vn]\n",
    "y_pr = [np.mean(alist) for alist in experiments_pr ]\n",
    "x = [2**(i+1) for i in range(len(experiments_vn))]\n",
    "vn, = plt.plot(x,y_vn,c = 'r')\n",
    "pr, = plt.plot(x,y_pr, c = 'g')\n",
    "plt.xlabel('Number of States')\n",
    "plt.ylabel('Iterations to Convergence')\n",
    "plt.legend([vn,pr],['SGD','Min Var'],loc =2)"
   ]
  },
  {
   "cell_type": "code",
   "execution_count": 129,
   "metadata": {
    "collapsed": false
   },
   "outputs": [
    {
     "data": {
      "text/plain": [
       "[25, 97, 281, 551, 1575, 1600, 7318]"
      ]
     },
     "execution_count": 129,
     "metadata": {},
     "output_type": "execute_result"
    },
    {
     "data": {
      "image/png": "[encoded data removed]",
      "text/plain": [
       "<matplotlib.figure.Figure at 0x1165b7250>"
      ]
     },
     "metadata": {},
     "output_type": "display_data"
    }
   ],
   "source": [
    "y1 = [55,402,290,921,2606,3868,10758,17212,40372,105712,172894]\n",
    "y2 = counts\n",
    "x = [2**(x+1) for x in range(11)]\n",
    "plt.loglog(x,y1,c='r')\n",
    "plt.loglog(x[:7],y2)\n",
    "plt.ylabel('updates needed')\n",
    "plt.xlabel('# samples')\n",
    "counts"
   ]
  },
  {
   "cell_type": "code",
   "execution_count": 5,
   "metadata": {
    "collapsed": false
   },
   "outputs": [],
   "source": [
    "# Create Store for Thetas and deltas\n",
    "delta_store = priority_queue()\n",
    "thetas = np.zeros((10*2))\n",
    "\n",
    "# Get History\n",
    "history = get_history(5)\n",
    "priorities = [100]*len(history)\n",
    "delta_store.build_queue(range(len(history)),priorities)"
   ]
  },
  {
   "cell_type": "code",
   "execution_count": 5,
   "metadata": {
    "collapsed": false
   },
   "outputs": [
    {
     "data": {
      "text/plain": [
       "10.0"
      ]
     },
     "execution_count": 5,
     "metadata": {},
     "output_type": "execute_result"
    }
   ],
   "source": [
    "x = [1,2,3,4]\n",
    "float(sum(x))"
   ]
  },
  {
   "cell_type": "code",
   "execution_count": 4,
   "metadata": {
    "collapsed": false
   },
   "outputs": [
    {
     "data": {
      "text/plain": [
       "float"
      ]
     },
     "execution_count": 4,
     "metadata": {},
     "output_type": "execute_result"
    }
   ],
   "source": [
    "type(3.0)"
   ]
  },
  {
   "cell_type": "code",
   "execution_count": 12,
   "metadata": {
    "collapsed": false
   },
   "outputs": [],
   "source": [
    "x = np.array([3,4,5])"
   ]
  },
  {
   "cell_type": "code",
   "execution_count": 13,
   "metadata": {
    "collapsed": false
   },
   "outputs": [
    {
     "data": {
      "text/plain": [
       "3"
      ]
     },
     "execution_count": 13,
     "metadata": {},
     "output_type": "execute_result"
    }
   ],
   "source": []
  },
  {
   "cell_type": "code",
   "execution_count": 200,
   "metadata": {
    "collapsed": false
   },
   "outputs": [
    {
     "ename": "ValueError",
     "evalue": "incompatible sizes: argument 'height' must be length 62 or scalar",
     "output_type": "error",
     "traceback": [
      "\u001b[0;31m---------------------------------------------------------------------------\u001b[0m",
      "\u001b[0;31mValueError\u001b[0m                                Traceback (most recent call last)",
      "\u001b[0;32m<ipython-input-200-c52d767e2cbd>\u001b[0m in \u001b[0;36m<module>\u001b[0;34m()\u001b[0m\n\u001b[0;32m----> 1\u001b[0;31m \u001b[0mplt\u001b[0m\u001b[0;34m.\u001b[0m\u001b[0mbar\u001b[0m\u001b[0;34m(\u001b[0m\u001b[0mrange\u001b[0m\u001b[0;34m(\u001b[0m\u001b[0;36m62\u001b[0m\u001b[0;34m)\u001b[0m\u001b[0;34m,\u001b[0m\u001b[0mdelta_dist\u001b[0m\u001b[0;34m.\u001b[0m\u001b[0mprobs\u001b[0m\u001b[0;34m)\u001b[0m\u001b[0;34m\u001b[0m\u001b[0m\n\u001b[0m",
      "\u001b[0;32m/usr/local/lib/python2.7/site-packages/matplotlib/pyplot.pyc\u001b[0m in \u001b[0;36mbar\u001b[0;34m(left, height, width, bottom, hold, data, **kwargs)\u001b[0m\n\u001b[1;32m   2641\u001b[0m     \u001b[0;32mtry\u001b[0m\u001b[0;34m:\u001b[0m\u001b[0;34m\u001b[0m\u001b[0m\n\u001b[1;32m   2642\u001b[0m         ret = ax.bar(left, height, width=width, bottom=bottom, data=data,\n\u001b[0;32m-> 2643\u001b[0;31m                      **kwargs)\n\u001b[0m\u001b[1;32m   2644\u001b[0m     \u001b[0;32mfinally\u001b[0m\u001b[0;34m:\u001b[0m\u001b[0;34m\u001b[0m\u001b[0m\n\u001b[1;32m   2645\u001b[0m         \u001b[0max\u001b[0m\u001b[0;34m.\u001b[0m\u001b[0mhold\u001b[0m\u001b[0;34m(\u001b[0m\u001b[0mwashold\u001b[0m\u001b[0;34m)\u001b[0m\u001b[0;34m\u001b[0m\u001b[0m\n",
      "\u001b[0;32m/usr/local/lib/python2.7/site-packages/matplotlib/__init__.pyc\u001b[0m in \u001b[0;36minner\u001b[0;34m(ax, *args, **kwargs)\u001b[0m\n\u001b[1;32m   1810\u001b[0m                     warnings.warn(msg % (label_namer, func.__name__),\n\u001b[1;32m   1811\u001b[0m                                   RuntimeWarning, stacklevel=2)\n\u001b[0;32m-> 1812\u001b[0;31m             \u001b[0;32mreturn\u001b[0m \u001b[0mfunc\u001b[0m\u001b[0;34m(\u001b[0m\u001b[0max\u001b[0m\u001b[0;34m,\u001b[0m \u001b[0;34m*\u001b[0m\u001b[0margs\u001b[0m\u001b[0;34m,\u001b[0m \u001b[0;34m**\u001b[0m\u001b[0mkwargs\u001b[0m\u001b[0;34m)\u001b[0m\u001b[0;34m\u001b[0m\u001b[0m\n\u001b[0m\u001b[1;32m   1813\u001b[0m         \u001b[0mpre_doc\u001b[0m \u001b[0;34m=\u001b[0m \u001b[0minner\u001b[0m\u001b[0;34m.\u001b[0m\u001b[0m__doc__\u001b[0m\u001b[0;34m\u001b[0m\u001b[0m\n\u001b[1;32m   1814\u001b[0m         \u001b[0;32mif\u001b[0m \u001b[0mpre_doc\u001b[0m \u001b[0;32mis\u001b[0m \u001b[0mNone\u001b[0m\u001b[0;34m:\u001b[0m\u001b[0;34m\u001b[0m\u001b[0m\n",
      "\u001b[0;32m/usr/local/lib/python2.7/site-packages/matplotlib/axes/_axes.pyc\u001b[0m in \u001b[0;36mbar\u001b[0;34m(self, left, height, width, bottom, **kwargs)\u001b[0m\n\u001b[1;32m   2078\u001b[0m         \u001b[0;32mif\u001b[0m \u001b[0mlen\u001b[0m\u001b[0;34m(\u001b[0m\u001b[0mheight\u001b[0m\u001b[0;34m)\u001b[0m \u001b[0;34m!=\u001b[0m \u001b[0mnbars\u001b[0m\u001b[0;34m:\u001b[0m\u001b[0;34m\u001b[0m\u001b[0m\n\u001b[1;32m   2079\u001b[0m             raise ValueError(\"incompatible sizes: argument 'height' \"\n\u001b[0;32m-> 2080\u001b[0;31m                               \"must be length %d or scalar\" % nbars)\n\u001b[0m\u001b[1;32m   2081\u001b[0m         \u001b[0;32mif\u001b[0m \u001b[0mlen\u001b[0m\u001b[0;34m(\u001b[0m\u001b[0mwidth\u001b[0m\u001b[0;34m)\u001b[0m \u001b[0;34m!=\u001b[0m \u001b[0mnbars\u001b[0m\u001b[0;34m:\u001b[0m\u001b[0;34m\u001b[0m\u001b[0m\n\u001b[1;32m   2082\u001b[0m             raise ValueError(\"incompatible sizes: argument 'width' \"\n",
      "\u001b[0;31mValueError\u001b[0m: incompatible sizes: argument 'height' must be length 62 or scalar"
     ]
    },
    {
     "name": "stdout",
     "output_type": "stream",
     "text": [
      "> \u001b[0;32m/usr/local/lib/python2.7/site-packages/matplotlib/axes/_axes.py\u001b[0m(2080)\u001b[0;36mbar\u001b[0;34m()\u001b[0m\n",
      "\u001b[0;32m   2079 \u001b[0;31m            raise ValueError(\"incompatible sizes: argument 'height' \"\n",
      "\u001b[0m\u001b[0;32m-> 2080 \u001b[0;31m                              \"must be length %d or scalar\" % nbars)\n",
      "\u001b[0m\u001b[0;32m   2081 \u001b[0;31m        \u001b[0;32mif\u001b[0m \u001b[0mlen\u001b[0m\u001b[0;34m(\u001b[0m\u001b[0mwidth\u001b[0m\u001b[0;34m)\u001b[0m \u001b[0;34m!=\u001b[0m \u001b[0mnbars\u001b[0m\u001b[0;34m:\u001b[0m\u001b[0;34m\u001b[0m\u001b[0m\n",
      "\u001b[0m\n",
      "\n",
      "KeyboardInterrupt\n"
     ]
    },
    {
     "data": {
      "image/png": "[encoded data removed]",
      "text/plain": [
       "<matplotlib.figure.Figure at 0x118a5bcd0>"
      ]
     },
     "metadata": {},
     "output_type": "display_data"
    }
   ],
   "source": [
    "plt.bar(range(62),delta_dist.probs)"
   ]
  },
  {
   "cell_type": "code",
   "execution_count": 153,
   "metadata": {
    "collapsed": false
   },
   "outputs": [
    {
     "data": {
      "text/plain": [
       "(62,)"
      ]
     },
     "execution_count": 153,
     "metadata": {},
     "output_type": "execute_result"
    }
   ],
   "source": [
    "\n",
    "np.shape(delta_dist.probs)"
   ]
  },
  {
   "cell_type": "code",
   "execution_count": 151,
   "metadata": {
    "collapsed": false
   },
   "outputs": [],
   "source": [
    "plt.hist?"
   ]
  },
  {
   "cell_type": "code",
   "execution_count": null,
   "metadata": {
    "collapsed": false
   },
   "outputs": [],
   "source": []
  },
  {
   "cell_type": "code",
   "execution_count": null,
   "metadata": {
    "collapsed": false
   },
   "outputs": [],
   "source": []
  },
  {
   "cell_type": "code",
   "execution_count": null,
   "metadata": {
    "collapsed": false
   },
   "outputs": [],
   "source": []
  },
  {
   "cell_type": "code",
   "execution_count": null,
   "metadata": {
    "collapsed": false
   },
   "outputs": [],
   "source": []
  },
  {
   "cell_type": "code",
   "execution_count": null,
   "metadata": {
    "collapsed": false
   },
   "outputs": [],
   "source": []
  },
  {
   "cell_type": "code",
   "execution_count": null,
   "metadata": {
    "collapsed": false
   },
   "outputs": [],
   "source": [
    "\n"
   ]
  },
  {
   "cell_type": "code",
   "execution_count": null,
   "metadata": {
    "collapsed": false
   },
   "outputs": [],
   "source": []
  },
  {
   "cell_type": "code",
   "execution_count": 224,
   "metadata": {
    "collapsed": false
   },
   "outputs": [
    {
     "data": {
      "text/plain": [
       "[3, 5, 3, 4]"
      ]
     },
     "execution_count": 224,
     "metadata": {},
     "output_type": "execute_result"
    }
   ],
   "source": [
    "x = [3,4,5,3]\n",
    "np.random.shuffle(x)\n",
    "x"
   ]
  },
  {
   "cell_type": "code",
   "execution_count": 231,
   "metadata": {
    "collapsed": false
   },
   "outputs": [
    {
     "data": {
      "text/plain": [
       "False"
      ]
     },
     "execution_count": 231,
     "metadata": {},
     "output_type": "execute_result"
    }
   ],
   "source": [
    "[3,5,3,4] is x"
   ]
  },
  {
   "cell_type": "code",
   "execution_count": 247,
   "metadata": {
    "collapsed": false
   },
   "outputs": [],
   "source": [
    "import pickle\n",
    "\n",
    "experiments = [[63, 52, 59, 45, 66, 80, 61, 53, 88, 62], [185, 159, 171, 137, 104, 143, 121, 107, 167, 132], [411, 331, 493, 291, 417, 367, 328, 436, 408, 309], [930, 585, 820, 741, 348, 779, 602, 576, 927, 910], [2122, 1813, 1748, 2420, 1993, 1812, 2038, 1476, 1588, 2329], [3116, 3089, 3894, 3174, 4014, 2912, 4628, 3891, 3146, 2965], [6239, 5728, 8671, 8411, 5574, 5636, 5413, 5356, 5598, 7223], [19504, 18574, 15483, 19439, 14643, 15835, 13749, 17218, 12703, 15885], [36644, 36865, 26655, 33464, 27443, 31275, 32119, 25651, 25570, 34765]]\n",
    "experiments_gr = [[25, 25, 25, 25, 25, 25, 25, 25, 25, 25], [53, 54, 54, 54, 54, 54, 54, 54, 54, 54], [82, 84, 181, 82, 82, 114, 84, 106, 1600, 83], [3200, 129, 3200, 3200, 3200, 161, 3200, 3200, 3200, 133], [6400, 217, 6400, 276, 221, 276, 6400, 305, 6400, 269], [12800, 12800, 417, 12800, 12800, 12800, 12800, 12800, 12800, 12800], [25600, 25600, 25600, 25600, 25600, 25600, 25600, 25600, 25600, 25600], [51200, 51200, 51200, 51200, 51200, 51200, 51200, 51200, 51200, 51200], [102400, 102400, 102400, 102400, 102400, 102400, 102400, 102400, 102400, 102400]]\n",
    "with open('ExperimentResults','w') as f:\n",
    "    pickle.dump(experiments,f)\n",
    "    pickle.dump(experiments_gr,f)"
   ]
  },
  {
   "cell_type": "code",
   "execution_count": 244,
   "metadata": {
    "collapsed": false
   },
   "outputs": [
    {
     "data": {
      "text/plain": [
       "[[63, 52, 59, 45, 66, 80, 61, 53, 88, 62],\n",
       " [185, 159, 171, 137, 104, 143, 121, 107, 167, 132],\n",
       " [411, 331, 493, 291, 417, 367, 328, 436, 408, 309],\n",
       " [930, 585, 820, 741, 348, 779, 602, 576, 927, 910],\n",
       " [2122, 1813, 1748, 2420, 1993, 1812, 2038, 1476, 1588, 2329],\n",
       " [3116, 3089, 3894, 3174, 4014, 2912, 4628, 3891, 3146, 2965],\n",
       " [6239, 5728, 8671, 8411, 5574, 5636, 5413, 5356, 5598, 7223],\n",
       " [19504, 18574, 15483, 19439, 14643, 15835, 13749, 17218, 12703, 15885],\n",
       " [36644, 36865, 26655, 33464, 27443, 31275, 32119, 25651, 25570, 34765]]"
      ]
     },
     "execution_count": 244,
     "metadata": {},
     "output_type": "execute_result"
    }
   ],
   "source": [
    "f = open('ExperimentResults')\n",
    "\n"
   ]
  },
  {
   "cell_type": "code",
   "execution_count": 4,
   "metadata": {
    "collapsed": false
   },
   "outputs": [
    {
     "data": {
      "text/plain": [
       "1.6666666666666667"
      ]
     },
     "execution_count": 4,
     "metadata": {},
     "output_type": "execute_result"
    }
   ],
   "source": [
    "float(5)/3"
   ]
  },
  {
   "cell_type": "code",
   "execution_count": 9,
   "metadata": {
    "collapsed": false
   },
   "outputs": [],
   "source": [
    "import numpy as np"
   ]
  },
  {
   "cell_type": "code",
   "execution_count": 11,
   "metadata": {
    "collapsed": false
   },
   "outputs": [
    {
     "data": {
      "text/plain": [
       "0.9608752295384204"
      ]
     },
     "execution_count": 11,
     "metadata": {},
     "output_type": "execute_result"
    }
   ],
   "source": [
    "np.random.rand()"
   ]
  },
  {
   "cell_type": "code",
   "execution_count": 114,
   "metadata": {
    "collapsed": false
   },
   "outputs": [
    {
     "ename": "NameError",
     "evalue": "name 'history' is not defined",
     "output_type": "error",
     "traceback": [
      "\u001b[0;31m---------------------------------------------------------------------------\u001b[0m",
      "\u001b[0;31mNameError\u001b[0m                                 Traceback (most recent call last)",
      "\u001b[0;32m<ipython-input-114-5e467b2ddcd1>\u001b[0m in \u001b[0;36m<module>\u001b[0;34m()\u001b[0m\n\u001b[0;32m----> 1\u001b[0;31m \u001b[0mnp\u001b[0m\u001b[0;34m.\u001b[0m\u001b[0mones\u001b[0m\u001b[0;34m(\u001b[0m\u001b[0mlen\u001b[0m\u001b[0;34m(\u001b[0m\u001b[0mhistory\u001b[0m\u001b[0;34m)\u001b[0m\u001b[0;34m)\u001b[0m\u001b[0;34m\u001b[0m\u001b[0m\n\u001b[0m",
      "\u001b[0;31mNameError\u001b[0m: name 'history' is not defined"
     ]
    },
    {
     "name": "stdout",
     "output_type": "stream",
     "text": [
      "> \u001b[0;32m<ipython-input-114-5e467b2ddcd1>\u001b[0m(1)\u001b[0;36m<module>\u001b[0;34m()\u001b[0m\n",
      "\u001b[0;32m----> 1 \u001b[0;31m\u001b[0mnp\u001b[0m\u001b[0;34m.\u001b[0m\u001b[0mones\u001b[0m\u001b[0;34m(\u001b[0m\u001b[0mlen\u001b[0m\u001b[0;34m(\u001b[0m\u001b[0mhistory\u001b[0m\u001b[0;34m)\u001b[0m\u001b[0;34m)\u001b[0m\u001b[0;34m\u001b[0m\u001b[0m\n",
      "\u001b[0m\n",
      "\n",
      "KeyboardInterrupt\n"
     ]
    }
   ],
   "source": [
    "np.ones(len(history))"
   ]
  },
  {
   "cell_type": "code",
   "execution_count": 14,
   "metadata": {
    "collapsed": false
   },
   "outputs": [
    {
     "data": {
      "text/plain": [
       "[1, 2, 4, 8, 16, 32, 64, 128, 256, 512]"
      ]
     },
     "execution_count": 14,
     "metadata": {},
     "output_type": "execute_result"
    }
   ],
   "source": [
    "x"
   ]
  },
  {
   "cell_type": "code",
   "execution_count": 19,
   "metadata": {
    "collapsed": false
   },
   "outputs": [
    {
     "data": {
      "text/plain": [
       "[45, 104, 291, 348, 1476, 2912, 5356, 12703, 25570]"
      ]
     },
     "execution_count": 19,
     "metadata": {},
     "output_type": "execute_result"
    }
   ],
   "source": [
    "y_non_greedy"
   ]
  },
  {
   "cell_type": "code",
   "execution_count": 23,
   "metadata": {
    "collapsed": false
   },
   "outputs": [
    {
     "data": {
      "text/plain": [
       "[<matplotlib.lines.Line2D at 0x11052f190>]"
      ]
     },
     "execution_count": 23,
     "metadata": {},
     "output_type": "execute_result"
    },
    {
     "data": {
      "image/png": "[encoded data removed]",
      "text/plain": [
       "<matplotlib.figure.Figure at 0x11045fa10>"
      ]
     },
     "metadata": {},
     "output_type": "display_data"
    }
   ],
   "source": [
    "plt.plot(x[:-1],y_non_greedy)"
   ]
  },
  {
   "cell_type": "code",
   "execution_count": 22,
   "metadata": {
    "collapsed": false
   },
   "outputs": [
    {
     "data": {
      "text/plain": [
       "(9,)"
      ]
     },
     "execution_count": 22,
     "metadata": {},
     "output_type": "execute_result"
    }
   ],
   "source": [
    "np.shape(y_non_greedy)"
   ]
  },
  {
   "cell_type": "code",
   "execution_count": null,
   "metadata": {
    "collapsed": true
   },
   "outputs": [],
   "source": []
  }
 ],
 "metadata": {
  "kernelspec": {
   "display_name": "Python 2",
   "language": "python",
   "name": "python2"
  },
  "language_info": {
   "codemirror_mode": {
    "name": "ipython",
    "version": 2
   },
   "file_extension": ".py",
   "mimetype": "text/x-python",
   "name": "python",
   "nbconvert_exporter": "python",
   "pygments_lexer": "ipython2",
   "version": "2.7.10"
  }
 },
 "nbformat": 4,
 "nbformat_minor": 0
}
