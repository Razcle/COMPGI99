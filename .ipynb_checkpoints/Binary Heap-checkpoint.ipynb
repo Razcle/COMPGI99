{
 "cells": [
  {
   "cell_type": "code",
   "execution_count": 47,
   "metadata": {
    "collapsed": false
   },
   "outputs": [],
   "source": [
    "class max_binary_heap(object):\n",
    "    \n",
    "    def __init__(self):\n",
    "        self.heap_list = [0]\n",
    "        self.heap_size = 0\n",
    "    \n",
    "    def is_empty(self):\n",
    "        if self.heap_size == 0:\n",
    "            return True\n",
    "    \n",
    "    def size(self):\n",
    "        return self.heap_size\n",
    "    \n",
    "    def get_max(self):\n",
    "        return self.heap_list[1]\n",
    "    \n",
    "    def perc_up(self,i):\n",
    "        while i/2 > 0:\n",
    "            if self.heap_list[i] > self.heap_list[i/2]:\n",
    "                self.heap_list[i],self.heap_list[i/2] = self.heap_list[i/2],self.heap_list[i]\n",
    "            i = i/2\n",
    "            \n",
    "    def perc_down(self,i):\n",
    "        while i*2 <= self.heap_size:\n",
    "            mc = self.max_child(i)\n",
    "            if self.heap_list[i] < self.heap_list[mc]:\n",
    "                self.heap_list[i],self.heap_list[mc] = self.heap_list[mc],self.heap_list[i]\n",
    "            i = mc\n",
    "    \n",
    "    def max_child(self,i):\n",
    "        if i*2 + 1 > self.heap_size:\n",
    "            return 2*i\n",
    "        elif self.heap_list[2*i] > self.heap_list[2*i+1]:\n",
    "            return 2*i\n",
    "        else:\n",
    "            return 2*i +1\n",
    "        \n",
    "    def insert(self,item):\n",
    "        self.heap_list.append(item)\n",
    "        self.heap_size = self.heap_size + 1\n",
    "        self.perc_up(self.heap_size)\n",
    "    \n",
    "    def del_max(self):\n",
    "        if self.is_empty() is True:\n",
    "            return \"Heap is Empty\"\n",
    "        retval = self.heap_list[1]\n",
    "        self.heap_list[1] = self.heap_list[self.heap_size]\n",
    "        self.heap_size = self.heap_size - 1\n",
    "        self.heap_list.pop()\n",
    "        self.perc_down(1)\n",
    "        return retval\n",
    "    \n",
    "    def build_heap(self,alist):\n",
    "        i = len(alist) / 2\n",
    "        self.heap_size = len(alist)\n",
    "        self.heap_list = [0] + alist[:]\n",
    "        while (i > 0):\n",
    "            self.perc_down(i)\n",
    "            i = i - 1\n",
    "    \n",
    "        "
   ]
  },
  {
   "cell_type": "code",
   "execution_count": 65,
   "metadata": {
    "collapsed": false
   },
   "outputs": [],
   "source": []
  },
  {
   "cell_type": "code",
   "execution_count": null,
   "metadata": {
    "collapsed": false
   },
   "outputs": [],
   "source": []
  },
  {
   "cell_type": "code",
   "execution_count": null,
   "metadata": {
    "collapsed": true
   },
   "outputs": [],
   "source": []
  },
  {
   "cell_type": "code",
   "execution_count": null,
   "metadata": {
    "collapsed": false
   },
   "outputs": [],
   "source": []
  },
  {
   "cell_type": "code",
   "execution_count": null,
   "metadata": {
    "collapsed": true
   },
   "outputs": [],
   "source": []
  },
  {
   "cell_type": "code",
   "execution_count": null,
   "metadata": {
    "collapsed": false
   },
   "outputs": [],
   "source": []
  },
  {
   "cell_type": "code",
   "execution_count": null,
   "metadata": {
    "collapsed": true
   },
   "outputs": [],
   "source": []
  },
  {
   "cell_type": "code",
   "execution_count": null,
   "metadata": {
    "collapsed": false
   },
   "outputs": [],
   "source": []
  },
  {
   "cell_type": "code",
   "execution_count": null,
   "metadata": {
    "collapsed": true
   },
   "outputs": [],
   "source": []
  },
  {
   "cell_type": "code",
   "execution_count": null,
   "metadata": {
    "collapsed": true
   },
   "outputs": [],
   "source": []
  }
 ],
 "metadata": {
  "kernelspec": {
   "display_name": "Python 2",
   "language": "python",
   "name": "python2"
  },
  "language_info": {
   "codemirror_mode": {
    "name": "ipython",
    "version": 2
   },
   "file_extension": ".py",
   "mimetype": "text/x-python",
   "name": "python",
   "nbconvert_exporter": "python",
   "pygments_lexer": "ipython2",
   "version": "2.7.10"
  }
 },
 "nbformat": 4,
 "nbformat_minor": 0
}
