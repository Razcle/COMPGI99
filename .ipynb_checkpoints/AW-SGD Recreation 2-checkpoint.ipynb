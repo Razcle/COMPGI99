{
 "cells": [
  {
   "cell_type": "code",
   "execution_count": 1,
   "metadata": {
    "collapsed": true
   },
   "outputs": [],
   "source": [
    "# Imports of all packages used trough out this tutorial\n",
    "%matplotlib inline\n",
    "import os\n",
    "import numpy as np\n",
    "from matplotlib import pyplot as plt\n",
    "from scipy.stats import rv_discrete"
   ]
  },
  {
   "cell_type": "markdown",
   "metadata": {},
   "source": [
    "# Matrix Factorisation"
   ]
  },
  {
   "cell_type": "code",
   "execution_count": 40,
   "metadata": {
    "collapsed": false
   },
   "outputs": [],
   "source": [
    "# Create a Low rank matrix\n",
    "N = 10\n",
    "M = 10\n",
    "K = 2\n",
    "\n",
    "U = np.random.randn(N,K)\n",
    "V = np.random.randn(M,K)\n",
    "Y = np.dot(U,V.T)"
   ]
  },
  {
   "cell_type": "code",
   "execution_count": 41,
   "metadata": {
    "collapsed": false
   },
   "outputs": [],
   "source": [
    "# Define The Loss function and Gradient Functions\n",
    "def matrix_square_loss(U,V,Y):\n",
    "    return np.sum((np.dot(U,V.T) - Y)**2)\n",
    "\n",
    "def grad_u(U,V,Y,i,j):\n",
    "    return 2*(np.dot(U[i,:],V[j,:]) - Y[i,j])*U[i,:]\n",
    "\n",
    "def grad_v(U,V,Y,i,j):\n",
    "    return 2*(np.dot(U[i,:],V[j,:]) - Y[i,j])*V[j,:]\n",
    "\n",
    "\n",
    "def sgd_update(U,V,Y,mu,i,j):\n",
    "    u_new = U[i,:] - mu*grad_u(U,V,Y,i,j)\n",
    "\n",
    "\n"
   ]
  },
  {
   "cell_type": "code",
   "execution_count": 46,
   "metadata": {
    "collapsed": false
   },
   "outputs": [
    {
     "data": {
      "text/plain": [
       "array([  3.12434329e-17,  -4.78162555e-16])"
      ]
     },
     "execution_count": 46,
     "metadata": {},
     "output_type": "execute_result"
    }
   ],
   "source": []
  },
  {
   "cell_type": "code",
   "execution_count": null,
   "metadata": {
    "collapsed": true
   },
   "outputs": [],
   "source": []
  }
 ],
 "metadata": {
  "kernelspec": {
   "display_name": "Python 2",
   "language": "python",
   "name": "python2"
  },
  "language_info": {
   "codemirror_mode": {
    "name": "ipython",
    "version": 2
   },
   "file_extension": ".py",
   "mimetype": "text/x-python",
   "name": "python",
   "nbconvert_exporter": "python",
   "pygments_lexer": "ipython2",
   "version": "2.7.10"
  }
 },
 "nbformat": 4,
 "nbformat_minor": 0
}
