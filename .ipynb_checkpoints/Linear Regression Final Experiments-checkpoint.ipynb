{
 "cells": [
  {
   "cell_type": "markdown",
   "metadata": {},
   "source": [
    "# AW-SGD"
   ]
  },
  {
   "cell_type": "markdown",
   "metadata": {},
   "source": [
    "This Notebook compares the performance of SGD,AW-SGD,BB AW-SGD and min-var SGD on linear regression tasks with fake\n",
    "and real data. \n",
    "\n",
    "If there is time, we will also look at a classification task with logisitc regression where there is a strong class imbalance."
   ]
  },
  {
   "cell_type": "markdown",
   "metadata": {},
   "source": [
    "## Linear Regression"
   ]
  },
  {
   "cell_type": "markdown",
   "metadata": {},
   "source": [
    "In Our First Experiment We Compare the convergence of BB-AWSGD,Min-var SGD and Vanilla SGD on synthetic and then real data.\n",
    "\n",
    "The output from these experiments should be:\n",
    "* The median number of iterations to convergence on 10 successive trials (i.e The median learning rate curve)"
   ]
  },
  {
   "cell_type": "code",
   "execution_count": 1,
   "metadata": {
    "collapsed": false
   },
   "outputs": [
    {
     "name": "stderr",
     "output_type": "stream",
     "text": [
      "/usr/local/lib/python2.7/site-packages/matplotlib/font_manager.py:273: UserWarning: Matplotlib is building the font cache using fc-list. This may take a moment.\n",
      "  warnings.warn('Matplotlib is building the font cache using fc-list. This may take a moment.')\n"
     ]
    }
   ],
   "source": [
    "from linear_regression_experiments import *\n",
    "%matplotlib inline\n",
    "from matplotlib import pyplot as plt"
   ]
  },
  {
   "cell_type": "code",
   "execution_count": 2,
   "metadata": {
    "collapsed": false
   },
   "outputs": [],
   "source": [
    "# Get Data\n",
    "N,D,sigma = 100,1,0.4\n",
    "w_true,X,y = GenData(N,D,sigma)"
   ]
  },
  {
   "cell_type": "code",
   "execution_count": 3,
   "metadata": {
    "collapsed": false
   },
   "outputs": [
    {
     "data": {
      "text/plain": [
       "[<matplotlib.lines.Line2D at 0x1124e52d0>]"
      ]
     },
     "execution_count": 3,
     "metadata": {},
     "output_type": "execute_result"
    },
    {
     "data": {
      "image/png": "[encoded data removed]",
      "text/plain": [
       "<matplotlib.figure.Figure at 0x10f935150>"
      ]
     },
     "metadata": {},
     "output_type": "display_data"
    }
   ],
   "source": [
    "# Plot D\n",
    "plt.scatter(X[:,0],y)\n",
    "plt.plot(X[:,0],np.dot(X,w_true),'r')"
   ]
  },
  {
   "cell_type": "code",
   "execution_count": 57,
   "metadata": {
    "collapsed": false
   },
   "outputs": [],
   "source": [
    "# Perform The Three SGD Algorithms 10 Times and store the results\n",
    "\n",
    "# Storage for the errors\n",
    "errors_sgd = np.zeros((10,100))\n",
    "errors_MVsgd = np.zeros((10,100))\n",
    "errors_BBsgd = np.zeros((10,100))\n",
    "max_iter = 101\n",
    "tol = 1e-6\n",
    "\n",
    "for test in range(10):\n",
    "    w_true,X,y = GenData(N,D,sigma)\n",
    "    w_0 = np.random.randn(D+1,1)\n",
    "    _, errors_sgd[test,:] = stochastic_gradient_descent(X,y,w_0,0.1,tol,max_iter)\n",
    "    _, errors_MVsgd[test,:] = min_var_sgd(X,y,w_0,0.1,tol,max_iter)\n",
    "    _, errors_BBsgd[test,:] = AW_SGD(X,y,w_0,0.01,0.001,tol,max_iter)\n",
    "\n",
    "med_sgd = np.median(errors_sgd,0)\n",
    "med_MVsgd = np.median(errors_MVsgd,0)\n",
    "med_BBsgd = np.median(errors_BBsgd,0)"
   ]
  },
  {
   "cell_type": "code",
   "execution_count": 59,
   "metadata": {
    "collapsed": false
   },
   "outputs": [
    {
     "data": {
      "text/plain": [
       "[<matplotlib.lines.Line2D at 0x1141c1690>]"
      ]
     },
     "execution_count": 59,
     "metadata": {},
     "output_type": "execute_result"
    },
    {
     "data": {
      "image/png": "[encoded data removed]",
      "text/plain": [
       "<matplotlib.figure.Figure at 0x11429f8d0>"
      ]
     },
     "metadata": {},
     "output_type": "display_data"
    }
   ],
   "source": [
    "plt.plot(med_BBsgd)\n",
    "plt.hold\n",
    "plt.plot(med_sgd,'g')\n",
    "plt.plot(med_MVsgd,'r')"
   ]
  },
  {
   "cell_type": "code",
   "execution_count": null,
   "metadata": {
    "collapsed": false
   },
   "outputs": [],
   "source": [
    "\n"
   ]
  },
  {
   "cell_type": "code",
   "execution_count": 8,
   "metadata": {
    "collapsed": false
   },
   "outputs": [
    {
     "data": {
      "text/plain": [
       "(2, 1)"
      ]
     },
     "execution_count": 8,
     "metadata": {},
     "output_type": "execute_result"
    }
   ],
   "source": []
  },
  {
   "cell_type": "code",
   "execution_count": null,
   "metadata": {
    "collapsed": true
   },
   "outputs": [],
   "source": []
  }
 ],
 "metadata": {
  "kernelspec": {
   "display_name": "Python 2",
   "language": "python",
   "name": "python2"
  },
  "language_info": {
   "codemirror_mode": {
    "name": "ipython",
    "version": 2
   },
   "file_extension": ".py",
   "mimetype": "text/x-python",
   "name": "python",
   "nbconvert_exporter": "python",
   "pygments_lexer": "ipython2",
   "version": "2.7.10"
  }
 },
 "nbformat": 4,
 "nbformat_minor": 0
}
