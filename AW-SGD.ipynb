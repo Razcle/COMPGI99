{
 "cells": [
  {
   "cell_type": "markdown",
   "metadata": {},
   "source": [
    "# Implementing Black Box AW-SGD"
   ]
  },
  {
   "cell_type": "code",
   "execution_count": 1,
   "metadata": {
    "collapsed": false
   },
   "outputs": [
    {
     "name": "stderr",
     "output_type": "stream",
     "text": [
      "/usr/local/lib/python2.7/site-packages/matplotlib/font_manager.py:273: UserWarning: Matplotlib is building the font cache using fc-list. This may take a moment.\n",
      "  warnings.warn('Matplotlib is building the font cache using fc-list. This may take a moment.')\n"
     ]
    }
   ],
   "source": [
    "# Imports of all packages used trough out this tutorial\n",
    "%matplotlib inline\n",
    "from __future__ import print_function\n",
    "import os\n",
    "import numpy as np\n",
    "from matplotlib import pyplot as plt\n",
    "import matplotlib.animation as animation\n",
    "from scipy.stats import norm\n",
    "import math"
   ]
  },
  {
   "cell_type": "markdown",
   "metadata": {},
   "source": [
    "## Linear Regression"
   ]
  },
  {
   "cell_type": "code",
   "execution_count": 2,
   "metadata": {
    "collapsed": true
   },
   "outputs": [],
   "source": [
    "N = 1000\n",
    "D = 1\n",
    "sigma = 0.2\n",
    "alpha = 0.01\n",
    "iters = 500\n",
    "batch_size = 10"
   ]
  },
  {
   "cell_type": "code",
   "execution_count": 3,
   "metadata": {
    "collapsed": false
   },
   "outputs": [
    {
     "data": {
      "image/png": "[encoded data removed]",
      "text/plain": [
       "<matplotlib.figure.Figure at 0x10e011390>"
      ]
     },
     "metadata": {},
     "output_type": "display_data"
    }
   ],
   "source": [
    "def GenData(N,D,sigma):\n",
    "    \"\"\"Generate Linear Data with Gaussian Noise\n",
    "        N - Number of Data\n",
    "        D - Dimension\n",
    "        simga - noise level \"\"\"\n",
    "    X = np.random.randn(N,D)\n",
    "    w_true = np.random.randn(D+1,1)\n",
    "    # Sort the X's\n",
    "    X = np.sort(X,axis = 0)\n",
    "    # Add Biases\n",
    "    X = np.concatenate((X, np.ones((N, 1))), axis=1)\n",
    "    # Get Y\n",
    "    y = np.dot(X,w_true) + sigma*np.random.randn(N,1)\n",
    "    return w_true, X, y\n",
    "    \n",
    "w_true, X, y = GenData(N,D,sigma)\n",
    "\n",
    "plt.figure(figsize=(5, 5))\n",
    "# Plot the data\n",
    "plt.scatter(X[:, 0], y, s=50)\n",
    "# Plot real line\n",
    "plt.plot(X[:, 0], np.dot(X, w_true), color='r')\n",
    "plt.show()\n"
   ]
  },
  {
   "cell_type": "code",
   "execution_count": 6,
   "metadata": {
    "collapsed": false
   },
   "outputs": [],
   "source": [
    "# Define all the functions that we'll need\n",
    "\n",
    "def lin_reg_grad(X,y,w):\n",
    "    \"\"\"Returns Gradient of Square Loss\n",
    "    \"\"\"\n",
    "\n",
    "    if np.shape(X)[1] != D+1:\n",
    "        raise Exception('Input Matrix wrong Dimension')\n",
    "        \n",
    "    N = np.shape(X)[0]\n",
    "    gram = np.dot(X.transpose(),X)\n",
    "    grad = (np.dot(gram,w) - np.dot(X.transpose(),y))/N\n",
    "    return grad\n",
    "\n",
    "def cosine_similarity(vec1,vec2):\n",
    "    \"\"\"Calculate the cosin similarity between 2 vectors\"\"\"\n",
    "    return np.dot(vec1.T,vec2)/(np.linalg.norm(vec1)*np.linalg.norm(vec2))\n",
    "    \n",
    "def error(X,y,w):\n",
    "    \"\"\"Returns the Square Error\"\"\"\n",
    "    N = np.shape(X)[0]\n",
    "    res = np.dot(X,w) - y\n",
    "    cost = np.dot(res.transpose(),res)/N\n",
    "    return cost\n",
    "\n",
    "def get_index(N,batch_size):\n",
    "    return np.random.randint(N - batch_size + 1)\n",
    "\n",
    "def get_weighted_index(N,mean = 50):\n",
    "    \"\"\"Returns an index by rounding a sample from a gaussian\n",
    "    along with it's weight and the gaussian random variable\"\"\"\n",
    "    sigma = N/10\n",
    "    s = np.random.randn()\n",
    "    z = s*sigma + mean\n",
    "    index = max(0,min(N-1,int(z)))\n",
    "    if z < -0.5:\n",
    "        weight = 0.0\n",
    "    elif z > N + 0.5:\n",
    "        weight =0.0\n",
    "    else:\n",
    "        weight = 1.0/norm.pdf(z,mean,sigma)\n",
    "    return index,weight,z\n",
    "    \n",
    "def gradient_descent(X,y,w,mu):\n",
    "    \"Performs one step of Gradient descent on square loss objective\"\n",
    "    w = w - mu*lin_reg_grad(X,y,w)\n",
    "    return w\n",
    "\n",
    "def stochastic_gradient_descent(X,y,w,mu,batch_size, index):\n",
    "    \"Performs one step of batch SGD\"\n",
    "    x_batch = X[index:index+batch_size, :]\n",
    "    y_batch = y[index:index+batch_size]\n",
    "    return gradient_descent(x_batch,y_batch,w,mu)\n",
    "\n",
    "def weighted_stochastic_gradient_descent(X, y, w, mu, batch_size, index, weight):\n",
    "    \"Performs one step of weighted SGD with guassian weighting\"\n",
    "    mu = mu*weight\n",
    "    return stochastic_gradient_descent(X,y,w,mu,batch_size,index)\n",
    "\n",
    "def adaptive_weighted_stochastic_gradient_descent(X, y, w, mu, batch_size, tau, index, weight,z,step, base_line=0.0,\n",
    "                                                  rate = 0.000000001):\n",
    "    \"Performs AWSGD and returns both tau,w and the base line\"\n",
    "    w_new = weighted_stochastic_gradient_descent(X, y, w, mu, batch_size, index, weight)\n",
    "    \n",
    "    d = (w - w_new)/mu\n",
    "    v = np.linalg.norm(d)**2\n",
    "    tau = tau - rate*(v - base_line)*(z-tau)\n",
    "    base_line = base_line - (1.0/(step + 1))*(base_line - v)\n",
    "    w = w_new\n",
    "    return w,tau,base_line\n",
    "\n",
    "\n",
    "def learning_rate_generator(initial_rate,time,cst):\n",
    "    return initial_rate/(1 + initial_rate*time*cst)\n"
   ]
  },
  {
   "cell_type": "code",
   "execution_count": 7,
   "metadata": {
    "collapsed": false
   },
   "outputs": [],
   "source": [
    "# Perform gd,sgd,wsgd and awsgd\n",
    "\n",
    "num_iter = 100\n",
    "\n",
    "errors_gd = np.zeros([num_iter,1])\n",
    "errors_sgd = np.zeros([num_iter,1])\n",
    "errors_wsgd = np.zeros([num_iter,1])\n",
    "errors_awsgd = np.zeros([num_iter,1])\n",
    "\n",
    "sim_gd = np.zeros([num_iter,1])\n",
    "sim_sgd = np.zeros([num_iter,1])\n",
    "sim_wsgd = np.zeros([num_iter,1])\n",
    "sim_awsgd = np.zeros([num_iter,1])\n",
    "taus = np.zeros([num_iter,1])\n",
    "zeds = np.zeros([num_iter,1])\n",
    "\n",
    "w_init = np.random.randn(D+1,1)\n",
    "w_gd = w_init.copy()\n",
    "w_sgd = w_init.copy()\n",
    "w_wsgd = w_init.copy()\n",
    "w_awsgd = w_init.copy()\n",
    "tau = N/2\n",
    "batch_size = 1\n",
    "base_line = 0.0\n",
    "\n",
    "\n",
    "\n",
    "for i in range(num_iter):\n",
    "    w_gd = gradient_descent(X,y,w_gd,0.1)\n",
    "    \n",
    "    sgd_rate = learning_rate_generator(1.0,i,1)\n",
    "    w_sgd = stochastic_gradient_descent(X,y,w_sgd,sgd_rate,batch_size,get_index(N,batch_size))\n",
    "    \n",
    "    wsgd_rate = learning_rate_generator(0.0001,i,1)\n",
    "    index,weight,z = get_weighted_index(N)\n",
    "    w_wsgd = weighted_stochastic_gradient_descent(X,y,w_wsgd,wsgd_rate,batch_size,index,weight)\n",
    "   \n",
    "    awsgd_rate = learning_rate_generator(1.0,i,10)\n",
    "    #awsgd_rate_mean = learning_rate_generator(0.0000001,i,1)\n",
    "    ad_index,ad_weight,z = get_weighted_index(N,tau)\n",
    "    w_awsgd,tau,base_line = adaptive_weighted_stochastic_gradient_descent(X, y, w_awsgd,\n",
    "                                                            awsgd_rate ,\n",
    "                                                            batch_size, tau, ad_index, ad_weight,z,i,base_line)\n",
    "    \n",
    "    taus[i] = tau\n",
    "    zeds[i] = z\n",
    "    \n",
    "    errors_gd[i] = error(X,y,w_gd)\n",
    "    errors_sgd[i] = error(X,y,w_sgd)\n",
    "    errors_wsgd[i] = error(X,y,w_wsgd)\n",
    "    errors_awsgd[i] = error(X,y,w_awsgd)\n",
    "    \n",
    "    sim_gd[i] = cosine_similarity(w_true,w_gd)\n",
    "    sim_sgd[i] = cosine_similarity(w_true,w_sgd)\n",
    "    sim_wsgd[i] = cosine_similarity(w_true,w_wsgd)\n",
    "    sim_awsgd[i] = cosine_similarity(w_true,w_awsgd)\n",
    "    "
   ]
  },
  {
   "cell_type": "code",
   "execution_count": 8,
   "metadata": {
    "collapsed": false
   },
   "outputs": [
    {
     "data": {
      "image/png": "[encoded data removed]",
      "text/plain": [
       "<matplotlib.figure.Figure at 0x10e102510>"
      ]
     },
     "metadata": {},
     "output_type": "display_data"
    }
   ],
   "source": [
    "# Plot the Errors\n",
    "\n",
    "plt.figure(figsize=(20,5))\n",
    "z = np.arange(num_iter)\n",
    "plt.subplot(1,4,1)\n",
    "plt.plot(z,errors_gd)\n",
    "plt.title('Error GD')\n",
    "plt.subplot(1,4,2)\n",
    "plt.plot(z,errors_sgd)\n",
    "plt.title('Error SGD')\n",
    "plt.subplot(1,4,3)\n",
    "plt.plot(z,errors_wsgd)\n",
    "plt.title('Error WSGD')\n",
    "plt.subplot(1,4,4)\n",
    "plt.plot(z,errors_awsgd)\n",
    "plt.title('Error AWSGD')\n",
    "plt.show()\n"
   ]
  },
  {
   "cell_type": "code",
   "execution_count": 9,
   "metadata": {
    "collapsed": false
   },
   "outputs": [
    {
     "data": {
      "image/png": "[encoded data removed]",
      "text/plain": [
       "<matplotlib.figure.Figure at 0x10b46d650>"
      ]
     },
     "metadata": {},
     "output_type": "display_data"
    }
   ],
   "source": [
    "plt.plot(z,errors_sgd,c = 'blue')\n",
    "plt.title('Error SGD vs AW-SGD')\n",
    "plt.hold\n",
    "plt.plot(z,errors_awsgd, c = 'red')\n",
    "plt.show()"
   ]
  },
  {
   "cell_type": "code",
   "execution_count": 10,
   "metadata": {
    "collapsed": false,
    "scrolled": true
   },
   "outputs": [
    {
     "data": {
      "image/png": "[encoded data removed]",
      "text/plain": [
       "<matplotlib.figure.Figure at 0x10e61bdd0>"
      ]
     },
     "metadata": {},
     "output_type": "display_data"
    }
   ],
   "source": [
    "# Plot the cosine similarity with the true W.\n",
    "\n",
    "plt.figure(figsize=(15,5))\n",
    "z = np.arange(num_iter)\n",
    "plt.subplot(1,4,1)\n",
    "plt.plot(z,sim_gd)\n",
    "plt.title('Cosine Sim GD')\n",
    "plt.subplot(1,4,2)\n",
    "plt.plot(z,sim_sgd)\n",
    "plt.title('Cosine Sim SGD')\n",
    "plt.subplot(1,4,3)\n",
    "plt.plot(z,sim_wsgd)\n",
    "plt.title('Cosine Sim WSGD')\n",
    "plt.subplot(1,4,4)\n",
    "plt.plot(z,sim_awsgd)\n",
    "plt.title('Cosine Sim AWSGD')\n",
    "plt.show()"
   ]
  },
  {
   "cell_type": "code",
   "execution_count": 11,
   "metadata": {
    "collapsed": false
   },
   "outputs": [
    {
     "data": {
      "image/png": "[encoded data removed]",
      "text/plain": [
       "<matplotlib.figure.Figure at 0x10e068610>"
      ]
     },
     "metadata": {},
     "output_type": "display_data"
    }
   ],
   "source": [
    "# Plot the Progression of the sampling distribution\n",
    "for i in range(num_iter):\n",
    "    m = np.linspace(0,N,N*100)\n",
    "    p = norm.pdf(m,taus[i],N/10)\n",
    "    plt.plot(m,p)\n",
    "    plt.hold\n",
    "plt.show()"
   ]
  },
  {
   "cell_type": "code",
   "execution_count": 12,
   "metadata": {
    "collapsed": false
   },
   "outputs": [
    {
     "data": {
      "text/plain": [
       "[<matplotlib.lines.Line2D at 0x121fc3c90>]"
      ]
     },
     "execution_count": 12,
     "metadata": {},
     "output_type": "execute_result"
    },
    {
     "data": {
      "image/png": "[encoded data removed]",
      "text/plain": [
       "<matplotlib.figure.Figure at 0x10e5be1d0>"
      ]
     },
     "metadata": {},
     "output_type": "display_data"
    }
   ],
   "source": [
    "plt.plot(taus)"
   ]
  },
  {
   "cell_type": "code",
   "execution_count": 13,
   "metadata": {
    "collapsed": false
   },
   "outputs": [
    {
     "data": {
      "text/plain": [
       "<matplotlib.collections.PathCollection at 0x10e36d0d0>"
      ]
     },
     "execution_count": 13,
     "metadata": {},
     "output_type": "execute_result"
    },
    {
     "data": {
      "image/png": "[encoded data removed]",
      "text/plain": [
       "<matplotlib.figure.Figure at 0x121d8b750>"
      ]
     },
     "metadata": {},
     "output_type": "display_data"
    }
   ],
   "source": [
    "plt.scatter(np.arange(num_iter),zeds)"
   ]
  },
  {
   "cell_type": "code",
   "execution_count": 280,
   "metadata": {
    "collapsed": false
   },
   "outputs": [
    {
     "data": {
      "text/plain": [
       "array([[ 1.12925219],\n",
       "       [ 1.18696124]])"
      ]
     },
     "execution_count": 280,
     "metadata": {},
     "output_type": "execute_result"
    }
   ],
   "source": [
    "# Calculate the cosine similarties of the points and see which is best\n",
    "\n",
    "similarities = np.zeros(N)\n",
    "\n",
    "true_grad = lin_reg_grad(X,y,w_init)\n",
    "\n",
    "for i in range(N):\n",
    "    grad_estimate = lin_reg_grad(X[i:i+1,:],y[i],w_init)\n",
    "\n",
    "cosine_similarity(grad_estimate,true_grad)\n",
    "    \n",
    "\n",
    "true_grad\n",
    "\n",
    "\n"
   ]
  },
  {
   "cell_type": "code",
   "execution_count": 132,
   "metadata": {
    "collapsed": false
   },
   "outputs": [
    {
     "data": {
      "text/plain": [
       "(2,)"
      ]
     },
     "execution_count": 132,
     "metadata": {},
     "output_type": "execute_result"
    }
   ],
   "source": [
    "np.shape(X[10,:])"
   ]
  },
  {
   "cell_type": "code",
   "execution_count": 1,
   "metadata": {
    "collapsed": false
   },
   "outputs": [
    {
     "name": "stderr",
     "output_type": "stream",
     "text": [
      "INFO:downhill.dataset:train: 1 of 1 mini-batches from (20, 5)\n"
     ]
    },
    {
     "name": "stdout",
     "output_type": "stream",
     "text": [
      "I 2016-07-07 15:49:51 downhill.dataset:174 train: 1 of 1 mini-batches from (20, 5)\n"
     ]
    },
    {
     "name": "stderr",
     "output_type": "stream",
     "text": [
      "INFO:downhill.base:-- patience = 0\n"
     ]
    },
    {
     "name": "stdout",
     "output_type": "stream",
     "text": [
      "I 2016-07-07 15:49:51 downhill.base:389 -- patience = 0\n"
     ]
    },
    {
     "name": "stderr",
     "output_type": "stream",
     "text": [
      "INFO:downhill.base:-- validate_every = 10\n"
     ]
    },
    {
     "name": "stdout",
     "output_type": "stream",
     "text": [
      "I 2016-07-07 15:49:51 downhill.base:390 -- validate_every = 10\n"
     ]
    },
    {
     "name": "stderr",
     "output_type": "stream",
     "text": [
      "INFO:downhill.base:-- max_updates = None\n"
     ]
    },
    {
     "name": "stdout",
     "output_type": "stream",
     "text": [
      "I 2016-07-07 15:49:51 downhill.base:391 -- max_updates = None\n"
     ]
    },
    {
     "name": "stderr",
     "output_type": "stream",
     "text": [
      "INFO:downhill.base:-- min_improvement = 0\n"
     ]
    },
    {
     "name": "stdout",
     "output_type": "stream",
     "text": [
      "I 2016-07-07 15:49:51 downhill.base:392 -- min_improvement = 0\n"
     ]
    },
    {
     "name": "stderr",
     "output_type": "stream",
     "text": [
      "INFO:downhill.base:-- max_gradient_norm = 1\n"
     ]
    },
    {
     "name": "stdout",
     "output_type": "stream",
     "text": [
      "I 2016-07-07 15:49:51 downhill.base:393 -- max_gradient_norm = 1\n"
     ]
    },
    {
     "name": "stderr",
     "output_type": "stream",
     "text": [
      "INFO:downhill.base:-- max_gradient_elem = 0\n"
     ]
    },
    {
     "name": "stdout",
     "output_type": "stream",
     "text": [
      "I 2016-07-07 15:49:51 downhill.base:394 -- max_gradient_elem = 0\n"
     ]
    },
    {
     "name": "stderr",
     "output_type": "stream",
     "text": [
      "INFO:downhill.base:-- learning_rate = 0.1\n"
     ]
    },
    {
     "name": "stdout",
     "output_type": "stream",
     "text": [
      "I 2016-07-07 15:49:51 downhill.base:395 -- learning_rate = 0.1\n"
     ]
    },
    {
     "name": "stderr",
     "output_type": "stream",
     "text": [
      "INFO:downhill.base:-- momentum = 0\n"
     ]
    },
    {
     "name": "stdout",
     "output_type": "stream",
     "text": [
      "I 2016-07-07 15:49:51 downhill.base:396 -- momentum = 0\n"
     ]
    },
    {
     "name": "stderr",
     "output_type": "stream",
     "text": [
      "INFO:downhill.base:-- nesterov = False\n"
     ]
    },
    {
     "name": "stdout",
     "output_type": "stream",
     "text": [
      "I 2016-07-07 15:49:51 downhill.base:397 -- nesterov = False\n"
     ]
    },
    {
     "name": "stderr",
     "output_type": "stream",
     "text": [
      "INFO:downhill.adaptive:-- rms_halflife = 14\n"
     ]
    },
    {
     "name": "stdout",
     "output_type": "stream",
     "text": [
      "I 2016-07-07 15:49:51 downhill.adaptive:220 -- rms_halflife = 14\n"
     ]
    },
    {
     "name": "stderr",
     "output_type": "stream",
     "text": [
      "INFO:downhill.adaptive:-- rms_regularizer = 1e-08\n"
     ]
    },
    {
     "name": "stdout",
     "output_type": "stream",
     "text": [
      "I 2016-07-07 15:49:51 downhill.adaptive:221 -- rms_regularizer = 1e-08\n"
     ]
    },
    {
     "name": "stderr",
     "output_type": "stream",
     "text": [
      "INFO:downhill.base:compiling evaluation function\n"
     ]
    },
    {
     "name": "stdout",
     "output_type": "stream",
     "text": [
      "I 2016-07-07 15:49:51 downhill.base:118 compiling evaluation function\n"
     ]
    },
    {
     "name": "stderr",
     "output_type": "stream",
     "text": [
      "INFO:downhill.base:compiling RMSProp function\n"
     ]
    },
    {
     "name": "stdout",
     "output_type": "stream",
     "text": [
      "I 2016-07-07 15:50:03 downhill.base:124 compiling RMSProp function\n"
     ]
    },
    {
     "name": "stderr",
     "output_type": "stream",
     "text": [
      "INFO:downhill.base:validation 0 loss=5.875907 err=4.540981 |u|<0.1=0.066667 |v|<0.1=0.133333 grad(v)=1.766186 grad(u)=0.778860 *\n"
     ]
    },
    {
     "name": "stdout",
     "output_type": "stream",
     "text": [
      "I 2016-07-07 15:50:19 downhill.base:232 validation 0 loss=5.875907 err=4.540981 |u|<0.1=0.066667 |v|<0.1=0.133333 grad(v)=1.766186 grad(u)=0.778860 *\n"
     ]
    },
    {
     "name": "stderr",
     "output_type": "stream",
     "text": [
      "INFO:downhill.base:RMSProp 1 loss=5.875907 err=4.540981 |u|<0.1=0.066667 |v|<0.1=0.133333 grad(v)=1.766186 grad(u)=0.778860\n"
     ]
    },
    {
     "name": "stdout",
     "output_type": "stream",
     "text": [
      "I 2016-07-07 15:50:19 downhill.base:232 RMSProp 1 loss=5.875907 err=4.540981 |u|<0.1=0.066667 |v|<0.1=0.133333 grad(v)=1.766186 grad(u)=0.778860\n"
     ]
    },
    {
     "name": "stderr",
     "output_type": "stream",
     "text": [
      "INFO:downhill.base:RMSProp 2 loss=3.599935 err=2.770614 |u|<0.1=0.083333 |v|<0.1=0.200000 grad(v)=0.161211 grad(u)=0.146888\n"
     ]
    },
    {
     "name": "stdout",
     "output_type": "stream",
     "text": [
      "I 2016-07-07 15:50:19 downhill.base:232 RMSProp 2 loss=3.599935 err=2.770614 |u|<0.1=0.083333 |v|<0.1=0.200000 grad(v)=0.161211 grad(u)=0.146888\n"
     ]
    },
    {
     "name": "stderr",
     "output_type": "stream",
     "text": [
      "INFO:downhill.base:RMSProp 3 loss=3.163241 err=2.489223 |u|<0.1=0.166667 |v|<0.1=0.133333 grad(v)=0.063558 grad(u)=0.060468\n"
     ]
    },
    {
     "name": "stdout",
     "output_type": "stream",
     "text": [
      "I 2016-07-07 15:50:19 downhill.base:232 RMSProp 3 loss=3.163241 err=2.489223 |u|<0.1=0.166667 |v|<0.1=0.133333 grad(v)=0.063558 grad(u)=0.060468\n"
     ]
    },
    {
     "name": "stderr",
     "output_type": "stream",
     "text": [
      "INFO:downhill.base:RMSProp 4 loss=2.925698 err=2.273789 |u|<0.1=0.250000 |v|<0.1=0.066667 grad(v)=0.011586 grad(u)=0.050720\n"
     ]
    },
    {
     "name": "stdout",
     "output_type": "stream",
     "text": [
      "I 2016-07-07 15:50:19 downhill.base:232 RMSProp 4 loss=2.925698 err=2.273789 |u|<0.1=0.250000 |v|<0.1=0.066667 grad(v)=0.011586 grad(u)=0.050720\n"
     ]
    },
    {
     "name": "stderr",
     "output_type": "stream",
     "text": [
      "INFO:downhill.base:RMSProp 5 loss=2.771293 err=2.088483 |u|<0.1=0.200000 |v|<0.1=0.066667 grad(v)=0.022198 grad(u)=0.031960\n"
     ]
    },
    {
     "name": "stdout",
     "output_type": "stream",
     "text": [
      "I 2016-07-07 15:50:19 downhill.base:232 RMSProp 5 loss=2.771293 err=2.088483 |u|<0.1=0.200000 |v|<0.1=0.066667 grad(v)=0.022198 grad(u)=0.031960\n"
     ]
    },
    {
     "name": "stderr",
     "output_type": "stream",
     "text": [
      "INFO:downhill.base:RMSProp 6 loss=2.650094 err=1.896720 |u|<0.1=0.250000 |v|<0.1=0.066667 grad(v)=0.012511 grad(u)=0.030314\n"
     ]
    },
    {
     "name": "stdout",
     "output_type": "stream",
     "text": [
      "I 2016-07-07 15:50:19 downhill.base:232 RMSProp 6 loss=2.650094 err=1.896720 |u|<0.1=0.250000 |v|<0.1=0.066667 grad(v)=0.012511 grad(u)=0.030314\n"
     ]
    },
    {
     "name": "stderr",
     "output_type": "stream",
     "text": [
      "INFO:downhill.base:RMSProp 7 loss=2.564841 err=1.758069 |u|<0.1=0.150000 |v|<0.1=0.133333 grad(v)=0.007610 grad(u)=0.027490\n"
     ]
    },
    {
     "name": "stdout",
     "output_type": "stream",
     "text": [
      "I 2016-07-07 15:50:19 downhill.base:232 RMSProp 7 loss=2.564841 err=1.758069 |u|<0.1=0.150000 |v|<0.1=0.133333 grad(v)=0.007610 grad(u)=0.027490\n"
     ]
    },
    {
     "name": "stderr",
     "output_type": "stream",
     "text": [
      "INFO:downhill.base:RMSProp 8 loss=2.486564 err=1.627358 |u|<0.1=0.183333 |v|<0.1=0.133333 grad(v)=0.006564 grad(u)=0.025311\n"
     ]
    },
    {
     "name": "stdout",
     "output_type": "stream",
     "text": [
      "I 2016-07-07 15:50:19 downhill.base:232 RMSProp 8 loss=2.486564 err=1.627358 |u|<0.1=0.183333 |v|<0.1=0.133333 grad(v)=0.006564 grad(u)=0.025311\n"
     ]
    },
    {
     "name": "stderr",
     "output_type": "stream",
     "text": [
      "INFO:downhill.base:RMSProp 9 loss=2.415072 err=1.524319 |u|<0.1=0.150000 |v|<0.1=0.200000 grad(v)=0.006541 grad(u)=0.023743\n"
     ]
    },
    {
     "name": "stdout",
     "output_type": "stream",
     "text": [
      "I 2016-07-07 15:50:19 downhill.base:232 RMSProp 9 loss=2.415072 err=1.524319 |u|<0.1=0.150000 |v|<0.1=0.200000 grad(v)=0.006541 grad(u)=0.023743\n"
     ]
    },
    {
     "name": "stderr",
     "output_type": "stream",
     "text": [
      "INFO:downhill.base:RMSProp 10 loss=2.343810 err=1.417606 |u|<0.1=0.233333 |v|<0.1=0.200000 grad(v)=0.007307 grad(u)=0.023718\n"
     ]
    },
    {
     "name": "stdout",
     "output_type": "stream",
     "text": [
      "I 2016-07-07 15:50:19 downhill.base:232 RMSProp 10 loss=2.343810 err=1.417606 |u|<0.1=0.233333 |v|<0.1=0.200000 grad(v)=0.007307 grad(u)=0.023718\n"
     ]
    },
    {
     "name": "stderr",
     "output_type": "stream",
     "text": [
      "INFO:downhill.base:validation 1 loss=2.280968 err=1.322145 |u|<0.1=0.200000 |v|<0.1=0.200000 grad(v)=0.005309 grad(u)=0.026911 *\n"
     ]
    },
    {
     "name": "stdout",
     "output_type": "stream",
     "text": [
      "I 2016-07-07 15:50:19 downhill.base:232 validation 1 loss=2.280968 err=1.322145 |u|<0.1=0.200000 |v|<0.1=0.200000 grad(v)=0.005309 grad(u)=0.026911 *\n"
     ]
    },
    {
     "name": "stderr",
     "output_type": "stream",
     "text": [
      "INFO:downhill.base:RMSProp 11 loss=2.280968 err=1.322145 |u|<0.1=0.200000 |v|<0.1=0.200000 grad(v)=0.005309 grad(u)=0.026911\n"
     ]
    },
    {
     "name": "stdout",
     "output_type": "stream",
     "text": [
      "I 2016-07-07 15:50:19 downhill.base:232 RMSProp 11 loss=2.280968 err=1.322145 |u|<0.1=0.200000 |v|<0.1=0.200000 grad(v)=0.005309 grad(u)=0.026911\n"
     ]
    },
    {
     "name": "stderr",
     "output_type": "stream",
     "text": [
      "INFO:downhill.base:RMSProp 12 loss=2.206108 err=1.212760 |u|<0.1=0.183333 |v|<0.1=0.200000 grad(v)=0.007822 grad(u)=0.023253\n"
     ]
    },
    {
     "name": "stdout",
     "output_type": "stream",
     "text": [
      "I 2016-07-07 15:50:19 downhill.base:232 RMSProp 12 loss=2.206108 err=1.212760 |u|<0.1=0.183333 |v|<0.1=0.200000 grad(v)=0.007822 grad(u)=0.023253\n"
     ]
    },
    {
     "name": "stderr",
     "output_type": "stream",
     "text": [
      "INFO:downhill.base:RMSProp 13 loss=2.143547 err=1.108200 |u|<0.1=0.166667 |v|<0.1=0.066667 grad(v)=0.004180 grad(u)=0.023786\n"
     ]
    },
    {
     "name": "stdout",
     "output_type": "stream",
     "text": [
      "I 2016-07-07 15:50:19 downhill.base:232 RMSProp 13 loss=2.143547 err=1.108200 |u|<0.1=0.166667 |v|<0.1=0.066667 grad(v)=0.004180 grad(u)=0.023786\n"
     ]
    },
    {
     "name": "stderr",
     "output_type": "stream",
     "text": [
      "INFO:downhill.base:RMSProp 14 loss=2.085339 err=1.029058 |u|<0.1=0.216667 |v|<0.1=0.133333 grad(v)=0.005305 grad(u)=0.019959\n"
     ]
    },
    {
     "name": "stdout",
     "output_type": "stream",
     "text": [
      "I 2016-07-07 15:50:19 downhill.base:232 RMSProp 14 loss=2.085339 err=1.029058 |u|<0.1=0.216667 |v|<0.1=0.133333 grad(v)=0.005305 grad(u)=0.019959\n"
     ]
    },
    {
     "name": "stderr",
     "output_type": "stream",
     "text": [
      "INFO:downhill.base:RMSProp 15 loss=2.038661 err=0.950677 |u|<0.1=0.216667 |v|<0.1=0.133333 grad(v)=0.003796 grad(u)=0.019180\n"
     ]
    },
    {
     "name": "stdout",
     "output_type": "stream",
     "text": [
      "I 2016-07-07 15:50:19 downhill.base:232 RMSProp 15 loss=2.038661 err=0.950677 |u|<0.1=0.216667 |v|<0.1=0.133333 grad(v)=0.003796 grad(u)=0.019180\n"
     ]
    },
    {
     "name": "stderr",
     "output_type": "stream",
     "text": [
      "INFO:downhill.base:RMSProp 16 loss=2.002167 err=0.903375 |u|<0.1=0.266667 |v|<0.1=0.066667 grad(v)=0.004247 grad(u)=0.015912\n"
     ]
    },
    {
     "name": "stdout",
     "output_type": "stream",
     "text": [
      "I 2016-07-07 15:50:19 downhill.base:232 RMSProp 16 loss=2.002167 err=0.903375 |u|<0.1=0.266667 |v|<0.1=0.066667 grad(v)=0.004247 grad(u)=0.015912\n"
     ]
    },
    {
     "name": "stderr",
     "output_type": "stream",
     "text": [
      "INFO:downhill.base:RMSProp 17 loss=1.970705 err=0.843304 |u|<0.1=0.266667 |v|<0.1=0.133333 grad(v)=0.004924 grad(u)=0.012568\n"
     ]
    },
    {
     "name": "stdout",
     "output_type": "stream",
     "text": [
      "I 2016-07-07 15:50:19 downhill.base:232 RMSProp 17 loss=1.970705 err=0.843304 |u|<0.1=0.266667 |v|<0.1=0.133333 grad(v)=0.004924 grad(u)=0.012568\n"
     ]
    },
    {
     "name": "stderr",
     "output_type": "stream",
     "text": [
      "INFO:downhill.base:RMSProp 18 loss=1.945026 err=0.828127 |u|<0.1=0.250000 |v|<0.1=0.066667 grad(v)=0.004590 grad(u)=0.013993\n"
     ]
    },
    {
     "name": "stdout",
     "output_type": "stream",
     "text": [
      "I 2016-07-07 15:50:19 downhill.base:232 RMSProp 18 loss=1.945026 err=0.828127 |u|<0.1=0.250000 |v|<0.1=0.066667 grad(v)=0.004590 grad(u)=0.013993\n"
     ]
    },
    {
     "name": "stderr",
     "output_type": "stream",
     "text": [
      "INFO:downhill.base:RMSProp 19 loss=1.929324 err=0.787570 |u|<0.1=0.266667 |v|<0.1=0.066667 grad(v)=0.007736 grad(u)=0.012078\n"
     ]
    },
    {
     "name": "stdout",
     "output_type": "stream",
     "text": [
      "I 2016-07-07 15:50:19 downhill.base:232 RMSProp 19 loss=1.929324 err=0.787570 |u|<0.1=0.266667 |v|<0.1=0.066667 grad(v)=0.007736 grad(u)=0.012078\n"
     ]
    },
    {
     "name": "stderr",
     "output_type": "stream",
     "text": [
      "INFO:downhill.base:RMSProp 20 loss=1.910094 err=0.774437 |u|<0.1=0.300000 |v|<0.1=0.000000 grad(v)=0.008011 grad(u)=0.010532\n"
     ]
    },
    {
     "name": "stdout",
     "output_type": "stream",
     "text": [
      "I 2016-07-07 15:50:19 downhill.base:232 RMSProp 20 loss=1.910094 err=0.774437 |u|<0.1=0.300000 |v|<0.1=0.000000 grad(v)=0.008011 grad(u)=0.010532\n"
     ]
    },
    {
     "name": "stderr",
     "output_type": "stream",
     "text": [
      "INFO:downhill.base:validation 2 loss=1.900761 err=0.753212 |u|<0.1=0.250000 |v|<0.1=0.066667 grad(v)=0.012624 grad(u)=0.008483 *\n"
     ]
    },
    {
     "name": "stdout",
     "output_type": "stream",
     "text": [
      "I 2016-07-07 15:50:19 downhill.base:232 validation 2 loss=1.900761 err=0.753212 |u|<0.1=0.250000 |v|<0.1=0.066667 grad(v)=0.012624 grad(u)=0.008483 *\n"
     ]
    },
    {
     "name": "stderr",
     "output_type": "stream",
     "text": [
      "INFO:downhill.base:RMSProp 21 loss=1.900761 err=0.753212 |u|<0.1=0.250000 |v|<0.1=0.066667 grad(v)=0.012624 grad(u)=0.008483\n"
     ]
    },
    {
     "name": "stdout",
     "output_type": "stream",
     "text": [
      "I 2016-07-07 15:50:19 downhill.base:232 RMSProp 21 loss=1.900761 err=0.753212 |u|<0.1=0.250000 |v|<0.1=0.066667 grad(v)=0.012624 grad(u)=0.008483\n"
     ]
    },
    {
     "name": "stderr",
     "output_type": "stream",
     "text": [
      "INFO:downhill.base:RMSProp 22 loss=1.884520 err=0.750528 |u|<0.1=0.283333 |v|<0.1=0.000000 grad(v)=0.012071 grad(u)=0.008434\n"
     ]
    },
    {
     "name": "stdout",
     "output_type": "stream",
     "text": [
      "I 2016-07-07 15:50:19 downhill.base:232 RMSProp 22 loss=1.884520 err=0.750528 |u|<0.1=0.283333 |v|<0.1=0.000000 grad(v)=0.012071 grad(u)=0.008434\n"
     ]
    },
    {
     "name": "stderr",
     "output_type": "stream",
     "text": [
      "INFO:downhill.base:RMSProp 23 loss=1.875121 err=0.724898 |u|<0.1=0.266667 |v|<0.1=0.066667 grad(v)=0.011941 grad(u)=0.009880\n"
     ]
    },
    {
     "name": "stdout",
     "output_type": "stream",
     "text": [
      "I 2016-07-07 15:50:19 downhill.base:232 RMSProp 23 loss=1.875121 err=0.724898 |u|<0.1=0.266667 |v|<0.1=0.066667 grad(v)=0.011941 grad(u)=0.009880\n"
     ]
    },
    {
     "name": "stderr",
     "output_type": "stream",
     "text": [
      "INFO:downhill.base:RMSProp 24 loss=1.871716 err=0.740554 |u|<0.1=0.300000 |v|<0.1=0.066667 grad(v)=0.014710 grad(u)=0.007642\n"
     ]
    },
    {
     "name": "stdout",
     "output_type": "stream",
     "text": [
      "I 2016-07-07 15:50:19 downhill.base:232 RMSProp 24 loss=1.871716 err=0.740554 |u|<0.1=0.300000 |v|<0.1=0.066667 grad(v)=0.014710 grad(u)=0.007642\n"
     ]
    },
    {
     "name": "stderr",
     "output_type": "stream",
     "text": [
      "INFO:downhill.base:RMSProp 25 loss=1.861975 err=0.702337 |u|<0.1=0.300000 |v|<0.1=0.133333 grad(v)=0.019385 grad(u)=0.006563\n"
     ]
    },
    {
     "name": "stdout",
     "output_type": "stream",
     "text": [
      "I 2016-07-07 15:50:19 downhill.base:232 RMSProp 25 loss=1.861975 err=0.702337 |u|<0.1=0.300000 |v|<0.1=0.133333 grad(v)=0.019385 grad(u)=0.006563\n"
     ]
    },
    {
     "name": "stderr",
     "output_type": "stream",
     "text": [
      "INFO:downhill.base:RMSProp 26 loss=1.866143 err=0.747450 |u|<0.1=0.350000 |v|<0.1=0.066667 grad(v)=0.027147 grad(u)=0.011754\n"
     ]
    },
    {
     "name": "stdout",
     "output_type": "stream",
     "text": [
      "I 2016-07-07 15:50:19 downhill.base:232 RMSProp 26 loss=1.866143 err=0.747450 |u|<0.1=0.350000 |v|<0.1=0.066667 grad(v)=0.027147 grad(u)=0.011754\n"
     ]
    },
    {
     "name": "stderr",
     "output_type": "stream",
     "text": [
      "INFO:downhill.base:RMSProp 27 loss=1.876302 err=0.716036 |u|<0.1=0.300000 |v|<0.1=0.133333 grad(v)=0.039911 grad(u)=0.011448\n"
     ]
    },
    {
     "name": "stdout",
     "output_type": "stream",
     "text": [
      "I 2016-07-07 15:50:19 downhill.base:232 RMSProp 27 loss=1.876302 err=0.716036 |u|<0.1=0.300000 |v|<0.1=0.133333 grad(v)=0.039911 grad(u)=0.011448\n"
     ]
    },
    {
     "name": "stderr",
     "output_type": "stream",
     "text": [
      "INFO:downhill.base:RMSProp 28 loss=1.868788 err=0.735541 |u|<0.1=0.283333 |v|<0.1=0.066667 grad(v)=0.039201 grad(u)=0.008732\n"
     ]
    },
    {
     "name": "stdout",
     "output_type": "stream",
     "text": [
      "I 2016-07-07 15:50:19 downhill.base:232 RMSProp 28 loss=1.868788 err=0.735541 |u|<0.1=0.283333 |v|<0.1=0.066667 grad(v)=0.039201 grad(u)=0.008732\n"
     ]
    },
    {
     "name": "stderr",
     "output_type": "stream",
     "text": [
      "INFO:downhill.base:RMSProp 29 loss=1.856367 err=0.705306 |u|<0.1=0.350000 |v|<0.1=0.200000 grad(v)=0.031814 grad(u)=0.011359\n"
     ]
    },
    {
     "name": "stdout",
     "output_type": "stream",
     "text": [
      "I 2016-07-07 15:50:19 downhill.base:232 RMSProp 29 loss=1.856367 err=0.705306 |u|<0.1=0.350000 |v|<0.1=0.200000 grad(v)=0.031814 grad(u)=0.011359\n"
     ]
    },
    {
     "name": "stderr",
     "output_type": "stream",
     "text": [
      "INFO:downhill.base:RMSProp 30 loss=1.858760 err=0.727562 |u|<0.1=0.283333 |v|<0.1=0.066667 grad(v)=0.031196 grad(u)=0.009496\n"
     ]
    },
    {
     "name": "stdout",
     "output_type": "stream",
     "text": [
      "I 2016-07-07 15:50:19 downhill.base:232 RMSProp 30 loss=1.858760 err=0.727562 |u|<0.1=0.283333 |v|<0.1=0.066667 grad(v)=0.031196 grad(u)=0.009496\n"
     ]
    },
    {
     "name": "stderr",
     "output_type": "stream",
     "text": [
      "INFO:downhill.base:validation 3 loss=1.854054 err=0.682883 |u|<0.1=0.333333 |v|<0.1=0.200000 grad(v)=0.031582 grad(u)=0.008366 *\n"
     ]
    },
    {
     "name": "stdout",
     "output_type": "stream",
     "text": [
      "I 2016-07-07 15:50:19 downhill.base:232 validation 3 loss=1.854054 err=0.682883 |u|<0.1=0.333333 |v|<0.1=0.200000 grad(v)=0.031582 grad(u)=0.008366 *\n"
     ]
    },
    {
     "name": "stderr",
     "output_type": "stream",
     "text": [
      "INFO:downhill.base:RMSProp 31 loss=1.854054 err=0.682883 |u|<0.1=0.333333 |v|<0.1=0.200000 grad(v)=0.031582 grad(u)=0.008366\n"
     ]
    },
    {
     "name": "stdout",
     "output_type": "stream",
     "text": [
      "I 2016-07-07 15:50:19 downhill.base:232 RMSProp 31 loss=1.854054 err=0.682883 |u|<0.1=0.333333 |v|<0.1=0.200000 grad(v)=0.031582 grad(u)=0.008366\n"
     ]
    },
    {
     "name": "stderr",
     "output_type": "stream",
     "text": [
      "INFO:downhill.base:RMSProp 32 loss=1.850058 err=0.730499 |u|<0.1=0.316667 |v|<0.1=0.066667 grad(v)=0.032111 grad(u)=0.008037\n"
     ]
    },
    {
     "name": "stdout",
     "output_type": "stream",
     "text": [
      "I 2016-07-07 15:50:19 downhill.base:232 RMSProp 32 loss=1.850058 err=0.730499 |u|<0.1=0.316667 |v|<0.1=0.066667 grad(v)=0.032111 grad(u)=0.008037\n"
     ]
    },
    {
     "name": "stderr",
     "output_type": "stream",
     "text": [
      "INFO:downhill.base:RMSProp 33 loss=1.846542 err=0.683443 |u|<0.1=0.333333 |v|<0.1=0.200000 grad(v)=0.029244 grad(u)=0.010265\n"
     ]
    },
    {
     "name": "stdout",
     "output_type": "stream",
     "text": [
      "I 2016-07-07 15:50:19 downhill.base:232 RMSProp 33 loss=1.846542 err=0.683443 |u|<0.1=0.333333 |v|<0.1=0.200000 grad(v)=0.029244 grad(u)=0.010265\n"
     ]
    },
    {
     "name": "stderr",
     "output_type": "stream",
     "text": [
      "INFO:downhill.base:RMSProp 34 loss=1.845850 err=0.724608 |u|<0.1=0.316667 |v|<0.1=0.066667 grad(v)=0.027795 grad(u)=0.006626\n"
     ]
    },
    {
     "name": "stdout",
     "output_type": "stream",
     "text": [
      "I 2016-07-07 15:50:19 downhill.base:232 RMSProp 34 loss=1.845850 err=0.724608 |u|<0.1=0.316667 |v|<0.1=0.066667 grad(v)=0.027795 grad(u)=0.006626\n"
     ]
    },
    {
     "name": "stderr",
     "output_type": "stream",
     "text": [
      "INFO:downhill.base:RMSProp 35 loss=1.835608 err=0.679016 |u|<0.1=0.400000 |v|<0.1=0.200000 grad(v)=0.024380 grad(u)=0.008580\n"
     ]
    },
    {
     "name": "stdout",
     "output_type": "stream",
     "text": [
      "I 2016-07-07 15:50:19 downhill.base:232 RMSProp 35 loss=1.835608 err=0.679016 |u|<0.1=0.400000 |v|<0.1=0.200000 grad(v)=0.024380 grad(u)=0.008580\n"
     ]
    },
    {
     "name": "stderr",
     "output_type": "stream",
     "text": [
      "INFO:downhill.base:RMSProp 36 loss=1.841233 err=0.720096 |u|<0.1=0.300000 |v|<0.1=0.066667 grad(v)=0.025601 grad(u)=0.008978\n"
     ]
    },
    {
     "name": "stdout",
     "output_type": "stream",
     "text": [
      "I 2016-07-07 15:50:19 downhill.base:232 RMSProp 36 loss=1.841233 err=0.720096 |u|<0.1=0.300000 |v|<0.1=0.066667 grad(v)=0.025601 grad(u)=0.008978\n"
     ]
    },
    {
     "name": "stderr",
     "output_type": "stream",
     "text": [
      "INFO:downhill.base:RMSProp 37 loss=1.838217 err=0.679684 |u|<0.1=0.350000 |v|<0.1=0.200000 grad(v)=0.025318 grad(u)=0.011007\n"
     ]
    },
    {
     "name": "stdout",
     "output_type": "stream",
     "text": [
      "I 2016-07-07 15:50:19 downhill.base:232 RMSProp 37 loss=1.838217 err=0.679684 |u|<0.1=0.350000 |v|<0.1=0.200000 grad(v)=0.025318 grad(u)=0.011007\n"
     ]
    },
    {
     "name": "stderr",
     "output_type": "stream",
     "text": [
      "INFO:downhill.base:RMSProp 38 loss=1.840841 err=0.705487 |u|<0.1=0.283333 |v|<0.1=0.133333 grad(v)=0.024713 grad(u)=0.005012\n"
     ]
    },
    {
     "name": "stdout",
     "output_type": "stream",
     "text": [
      "I 2016-07-07 15:50:19 downhill.base:232 RMSProp 38 loss=1.840841 err=0.705487 |u|<0.1=0.283333 |v|<0.1=0.133333 grad(v)=0.024713 grad(u)=0.005012\n"
     ]
    },
    {
     "name": "stderr",
     "output_type": "stream",
     "text": [
      "INFO:downhill.base:RMSProp 39 loss=1.825896 err=0.680124 |u|<0.1=0.383333 |v|<0.1=0.200000 grad(v)=0.021076 grad(u)=0.004992\n"
     ]
    },
    {
     "name": "stdout",
     "output_type": "stream",
     "text": [
      "I 2016-07-07 15:50:19 downhill.base:232 RMSProp 39 loss=1.825896 err=0.680124 |u|<0.1=0.383333 |v|<0.1=0.200000 grad(v)=0.021076 grad(u)=0.004992\n"
     ]
    },
    {
     "name": "stderr",
     "output_type": "stream",
     "text": [
      "INFO:downhill.base:RMSProp 40 loss=1.829243 err=0.701609 |u|<0.1=0.350000 |v|<0.1=0.133333 grad(v)=0.018113 grad(u)=0.008736\n"
     ]
    },
    {
     "name": "stdout",
     "output_type": "stream",
     "text": [
      "I 2016-07-07 15:50:19 downhill.base:232 RMSProp 40 loss=1.829243 err=0.701609 |u|<0.1=0.350000 |v|<0.1=0.133333 grad(v)=0.018113 grad(u)=0.008736\n"
     ]
    },
    {
     "name": "stderr",
     "output_type": "stream",
     "text": [
      "INFO:downhill.base:validation 4 loss=1.832844 err=0.678388 |u|<0.1=0.316667 |v|<0.1=0.200000 grad(v)=0.016386 grad(u)=0.007855 *\n"
     ]
    },
    {
     "name": "stdout",
     "output_type": "stream",
     "text": [
      "I 2016-07-07 15:50:19 downhill.base:232 validation 4 loss=1.832844 err=0.678388 |u|<0.1=0.316667 |v|<0.1=0.200000 grad(v)=0.016386 grad(u)=0.007855 *\n"
     ]
    },
    {
     "name": "stderr",
     "output_type": "stream",
     "text": [
      "INFO:downhill.base:RMSProp 41 loss=1.832844 err=0.678388 |u|<0.1=0.316667 |v|<0.1=0.200000 grad(v)=0.016386 grad(u)=0.007855\n"
     ]
    },
    {
     "name": "stdout",
     "output_type": "stream",
     "text": [
      "I 2016-07-07 15:50:19 downhill.base:232 RMSProp 41 loss=1.832844 err=0.678388 |u|<0.1=0.316667 |v|<0.1=0.200000 grad(v)=0.016386 grad(u)=0.007855\n"
     ]
    },
    {
     "name": "stderr",
     "output_type": "stream",
     "text": [
      "INFO:downhill.base:RMSProp 42 loss=1.827903 err=0.685325 |u|<0.1=0.316667 |v|<0.1=0.066667 grad(v)=0.019330 grad(u)=0.004481\n"
     ]
    },
    {
     "name": "stdout",
     "output_type": "stream",
     "text": [
      "I 2016-07-07 15:50:19 downhill.base:232 RMSProp 42 loss=1.827903 err=0.685325 |u|<0.1=0.316667 |v|<0.1=0.066667 grad(v)=0.019330 grad(u)=0.004481\n"
     ]
    },
    {
     "name": "stderr",
     "output_type": "stream",
     "text": [
      "INFO:downhill.base:RMSProp 43 loss=1.829233 err=0.687731 |u|<0.1=0.383333 |v|<0.1=0.200000 grad(v)=0.021139 grad(u)=0.006803\n"
     ]
    },
    {
     "name": "stdout",
     "output_type": "stream",
     "text": [
      "I 2016-07-07 15:50:19 downhill.base:232 RMSProp 43 loss=1.829233 err=0.687731 |u|<0.1=0.383333 |v|<0.1=0.200000 grad(v)=0.021139 grad(u)=0.006803\n"
     ]
    },
    {
     "name": "stderr",
     "output_type": "stream",
     "text": [
      "INFO:downhill.base:RMSProp 44 loss=1.831514 err=0.693295 |u|<0.1=0.366667 |v|<0.1=0.133333 grad(v)=0.022987 grad(u)=0.007882\n"
     ]
    },
    {
     "name": "stdout",
     "output_type": "stream",
     "text": [
      "I 2016-07-07 15:50:19 downhill.base:232 RMSProp 44 loss=1.831514 err=0.693295 |u|<0.1=0.366667 |v|<0.1=0.133333 grad(v)=0.022987 grad(u)=0.007882\n"
     ]
    },
    {
     "name": "stderr",
     "output_type": "stream",
     "text": [
      "INFO:downhill.base:RMSProp 45 loss=1.832809 err=0.689536 |u|<0.1=0.333333 |v|<0.1=0.200000 grad(v)=0.024340 grad(u)=0.006671\n"
     ]
    },
    {
     "name": "stdout",
     "output_type": "stream",
     "text": [
      "I 2016-07-07 15:50:19 downhill.base:232 RMSProp 45 loss=1.832809 err=0.689536 |u|<0.1=0.333333 |v|<0.1=0.200000 grad(v)=0.024340 grad(u)=0.006671\n"
     ]
    },
    {
     "name": "stderr",
     "output_type": "stream",
     "text": [
      "INFO:downhill.base:RMSProp 46 loss=1.830783 err=0.694585 |u|<0.1=0.333333 |v|<0.1=0.133333 grad(v)=0.022856 grad(u)=0.007902\n"
     ]
    },
    {
     "name": "stdout",
     "output_type": "stream",
     "text": [
      "I 2016-07-07 15:50:19 downhill.base:232 RMSProp 46 loss=1.830783 err=0.694585 |u|<0.1=0.333333 |v|<0.1=0.133333 grad(v)=0.022856 grad(u)=0.007902\n"
     ]
    },
    {
     "name": "stderr",
     "output_type": "stream",
     "text": [
      "INFO:downhill.base:RMSProp 47 loss=1.827568 err=0.679975 |u|<0.1=0.366667 |v|<0.1=0.200000 grad(v)=0.018615 grad(u)=0.005444\n"
     ]
    },
    {
     "name": "stdout",
     "output_type": "stream",
     "text": [
      "I 2016-07-07 15:50:19 downhill.base:232 RMSProp 47 loss=1.827568 err=0.679975 |u|<0.1=0.366667 |v|<0.1=0.200000 grad(v)=0.018615 grad(u)=0.005444\n"
     ]
    },
    {
     "name": "stderr",
     "output_type": "stream",
     "text": [
      "INFO:downhill.base:RMSProp 48 loss=1.828022 err=0.694670 |u|<0.1=0.350000 |v|<0.1=0.200000 grad(v)=0.019892 grad(u)=0.009820\n"
     ]
    },
    {
     "name": "stdout",
     "output_type": "stream",
     "text": [
      "I 2016-07-07 15:50:19 downhill.base:232 RMSProp 48 loss=1.828022 err=0.694670 |u|<0.1=0.350000 |v|<0.1=0.200000 grad(v)=0.019892 grad(u)=0.009820\n"
     ]
    },
    {
     "name": "stderr",
     "output_type": "stream",
     "text": [
      "INFO:downhill.base:RMSProp 49 loss=1.838223 err=0.681714 |u|<0.1=0.283333 |v|<0.1=0.200000 grad(v)=0.025465 grad(u)=0.005411\n"
     ]
    },
    {
     "name": "stdout",
     "output_type": "stream",
     "text": [
      "I 2016-07-07 15:50:19 downhill.base:232 RMSProp 49 loss=1.838223 err=0.681714 |u|<0.1=0.283333 |v|<0.1=0.200000 grad(v)=0.025465 grad(u)=0.005411\n"
     ]
    },
    {
     "name": "stderr",
     "output_type": "stream",
     "text": [
      "INFO:downhill.base:RMSProp 50 loss=1.830096 err=0.693359 |u|<0.1=0.366667 |v|<0.1=0.200000 grad(v)=0.027129 grad(u)=0.006829\n"
     ]
    },
    {
     "name": "stdout",
     "output_type": "stream",
     "text": [
      "I 2016-07-07 15:50:19 downhill.base:232 RMSProp 50 loss=1.830096 err=0.693359 |u|<0.1=0.366667 |v|<0.1=0.200000 grad(v)=0.027129 grad(u)=0.006829\n"
     ]
    },
    {
     "name": "stderr",
     "output_type": "stream",
     "text": [
      "INFO:downhill.base:validation 5 loss=1.836166 err=0.689789 |u|<0.1=0.366667 |v|<0.1=0.200000 grad(v)=0.027648 grad(u)=0.008700\n"
     ]
    },
    {
     "name": "stdout",
     "output_type": "stream",
     "text": [
      "I 2016-07-07 15:50:19 downhill.base:232 validation 5 loss=1.836166 err=0.689789 |u|<0.1=0.366667 |v|<0.1=0.200000 grad(v)=0.027648 grad(u)=0.008700\n"
     ]
    },
    {
     "name": "stderr",
     "output_type": "stream",
     "text": [
      "INFO:downhill.base:patience elapsed!\n"
     ]
    },
    {
     "name": "stdout",
     "output_type": "stream",
     "text": [
      "I 2016-07-07 15:50:19 downhill.base:414 patience elapsed!\n",
      "('u =', array([[ -3.18959022e+00,  -1.55650043e+00,   1.25228256e-01],\n",
      "       [  1.49464583e+00,  -1.10656023e-03,   2.36193347e+00],\n",
      "       [  5.02728939e-01,   1.96595931e+00,   4.50359657e-02],\n",
      "       [ -6.33716285e-01,   1.26184070e+00,  -1.32035410e+00],\n",
      "       [ -1.70202881e-01,   5.56546152e-02,  -9.29425538e-01],\n",
      "       [  1.27949774e+00,   5.59897572e-02,  -8.53152946e-03],\n",
      "       [  3.15853208e-01,   1.38277352e+00,  -7.25604407e-03],\n",
      "       [ -2.00586963e+00,   1.13515997e+00,  -3.91623974e-02],\n",
      "       [ -1.68593359e+00,   5.92828631e-01,   9.57718119e-02],\n",
      "       [ -6.82622194e-04,   9.23861042e-02,  -4.97543395e-01],\n",
      "       [ -1.60177350e-01,  -1.41539332e-02,   3.28974843e+00],\n",
      "       [ -1.80730358e-01,   1.38905203e+00,   1.74537867e-01],\n",
      "       [  6.27478600e-01,  -6.43601865e-02,   9.45688367e-01],\n",
      "       [ -1.97225690e+00,  -3.65263447e-02,   1.92878380e-01],\n",
      "       [ -8.17843601e-02,  -2.79370403e+00,   7.44865835e-02],\n",
      "       [ -1.66340023e-02,  -1.03492409e-01,  -1.96018827e+00],\n",
      "       [ -1.68918669e-01,   2.19809368e-01,  -7.61018574e-01],\n",
      "       [ -8.02401900e-02,  -1.75611269e+00,  -1.87505573e-01],\n",
      "       [ -4.45972025e-01,   9.66961563e-01,   9.41383690e-02],\n",
      "       [  1.20289445e+00,  -7.30863586e-02,  -2.12380573e-01]], dtype=float32))\n",
      "('v =', array([[ 1.14945495, -0.43622887, -0.23185308, -0.8556546 ,  0.01746497],\n",
      "       [ 0.35558021,  0.84514546,  0.51486415, -0.2253741 , -0.91127837],\n",
      "       [-0.04443723, -0.93642706,  0.81109631, -0.00206804, -0.48095405]], dtype=float32))\n"
     ]
    }
   ],
   "source": [
    "import climate\n",
    "import downhill\n",
    "import numpy as np\n",
    "import theano\n",
    "import theano.tensor as TT\n",
    "\n",
    "climate.enable_default_logging()\n",
    "\n",
    "def rand(a, b): return np.random.randn(a, b).astype('f')\n",
    "\n",
    "A, B, K = 20, 5, 3\n",
    "\n",
    "# Set up a matrix factorization problem to optimize.\n",
    "u = theano.shared(rand(A, K), name='u')\n",
    "v = theano.shared(rand(K, B), name='v')\n",
    "e = TT.sqr(TT.matrix() - TT.dot(u, v))\n",
    "\n",
    "# Minimize the regularized loss with respect to a data matrix.\n",
    "y = np.dot(rand(A, K), rand(K, B)) + rand(A, B)\n",
    "\n",
    "downhill.minimize(\n",
    "    loss=e.mean() + abs(u).mean() + (v * v).mean(),\n",
    "    train=[y],\n",
    "    patience=0,\n",
    "    batch_size=A,                 # Process y as a single batch.\n",
    "    max_gradient_norm=1,          # Prevent gradient explosion!\n",
    "    learning_rate=0.1,\n",
    "    monitors=(('err', e.mean()),  # Monitor during optimization.\n",
    "              ('|u|<0.1', (abs(u) < 0.1).mean()),\n",
    "              ('|v|<0.1', (abs(v) < 0.1).mean())),\n",
    "    monitor_gradients=True)\n",
    "\n",
    "# Print out the optimized coefficients u and basis v.\n",
    "print('u =', u.get_value())\n",
    "print('v =', v.get_value())"
   ]
  },
  {
   "cell_type": "code",
   "execution_count": null,
   "metadata": {
    "collapsed": false
   },
   "outputs": [],
   "source": [
    "class discrete_distribution(object):\n",
    "    \"\"\" Discrete probability distribuiton on the range [1,N]\n",
    "    \"\"\"\n",
    "    \n",
    "    def __init__(self,probs):\n",
    "        \"\"\"Probs is a np array of probabilites\"\"\"\n",
    "        self.Z = float(np.sum(probs))\n",
    "        self.probs = probs/self.Z\n",
    "        self.cumsum = np.cumsum(self.probs)\n",
    "    \n",
    "    def probability(self,index):\n",
    "        return self.probs[index]\n",
    "    \n",
    "    def sample(self):\n",
    "        seed = np.random.random()\n",
    "        smp = 0\n",
    "        while(seed > self.cumsum[smp]):\n",
    "            smp = smp + 1\n",
    "        return smp\n",
    "    \n",
    "    def update_prob(self,index,prob):\n",
    "        self.probs = self.probs*self.Z\n",
    "        self.Z = self.Z - self.probs[index] + prob\n",
    "        self.probs[index] = prob\n",
    "        self.probs = self.probs/float(self.Z)\n",
    "        self.cumsum = np.cumsum(self.probs)"
   ]
  },
  {
   "cell_type": "code",
   "execution_count": 15,
   "metadata": {
    "collapsed": true
   },
   "outputs": [],
   "source": [
    "np.random.normal?"
   ]
  },
  {
   "cell_type": "code",
   "execution_count": null,
   "metadata": {
    "collapsed": true
   },
   "outputs": [],
   "source": []
  }
 ],
 "metadata": {
  "kernelspec": {
   "display_name": "Python 2",
   "language": "python",
   "name": "python2"
  },
  "language_info": {
   "codemirror_mode": {
    "name": "ipython",
    "version": 2
   },
   "file_extension": ".py",
   "mimetype": "text/x-python",
   "name": "python",
   "nbconvert_exporter": "python",
   "pygments_lexer": "ipython2",
   "version": "2.7.10"
  }
 },
 "nbformat": 4,
 "nbformat_minor": 0
}
