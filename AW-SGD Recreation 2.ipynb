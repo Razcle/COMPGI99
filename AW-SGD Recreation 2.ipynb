{
 "cells": [
  {
   "cell_type": "code",
   "execution_count": 171,
   "metadata": {
    "collapsed": true
   },
   "outputs": [],
   "source": [
    "# Imports of all packages used trough out this tutorial\n",
    "%matplotlib inline\n",
    "import os\n",
    "import numpy as np\n",
    "from matplotlib import pyplot as plt\n",
    "from scipy.stats import rv_discrete"
   ]
  },
  {
   "cell_type": "markdown",
   "metadata": {},
   "source": [
    "# Matrix Factorisation"
   ]
  },
  {
   "cell_type": "code",
   "execution_count": 168,
   "metadata": {
    "collapsed": false
   },
   "outputs": [],
   "source": [
    "# Create a Low rank matrix\n",
    "N = 10\n",
    "M = 10\n",
    "K = 2\n",
    "\n",
    "U = np.random.randn(N,K)\n",
    "V = np.random.randn(M,K)\n",
    "Y = np.dot(U,V.T)"
   ]
  },
  {
   "cell_type": "code",
   "execution_count": 161,
   "metadata": {
    "collapsed": false
   },
   "outputs": [],
   "source": [
    "# Define The Loss function and Gradient Functions\n",
    "def matrix_square_loss(U,V,Y):\n",
    "    return np.sum((np.dot(U,V.T) - Y)**2)\n",
    "\n",
    "def grad_u(U,V,Y,i,j):\n",
    "    return 2*(np.dot(U[i,:],V[j,:]) - Y[i,j])*U[i,:]\n",
    "\n",
    "def grad_v(U,V,Y,i,j):\n",
    "    return 2*(np.dot(U[i,:],V[j,:]) - Y[i,j])*V[j,:]\n",
    "\n",
    "\n",
    "def sgd_update(U,V,Y,mu,i,j):\n",
    "    u_new = U[i,:].copy() - mu*grad_u(U,V,Y,i,j)\n",
    "    v_new = V[j,:].copy() - mu*grad_v(U,V,Y,i,j)\n",
    "    return u_new,v_new\n"
   ]
  },
  {
   "cell_type": "code",
   "execution_count": 169,
   "metadata": {
    "collapsed": false
   },
   "outputs": [
    {
     "data": {
      "text/plain": [
       "[<matplotlib.lines.Line2D at 0x10e974950>]"
      ]
     },
     "execution_count": 169,
     "metadata": {},
     "output_type": "execute_result"
    },
    {
     "data": {
      "image/png": "[encoded data removed]",
      "text/plain": [
       "<matplotlib.figure.Figure at 0x10e7aff10>"
      ]
     },
     "metadata": {},
     "output_type": "display_data"
    }
   ],
   "source": [
    "\n",
    "Q = np.random.randn(N,K)\n",
    "P = np.random.randn(M,K)\n",
    "\n",
    "mu = 0.01\n",
    "\n",
    "losses = np.zeros(100)\n",
    "\n",
    "for i in range(100):\n",
    "    n,m = np.random.randint(N), np.random.randint(M)\n",
    "    Q[n,:],P[m,:] = sgd_update(Q,P,Y,mu,n,m)\n",
    "    losses[i] = matrix_square_loss(Q,P,Y)\n",
    "    \n",
    "plt.plot(losses)\n",
    "    \n"
   ]
  },
  {
   "cell_type": "code",
   "execution_count": 144,
   "metadata": {
    "collapsed": false
   },
   "outputs": [
    {
     "data": {
      "text/plain": [
       "423.68063285816442"
      ]
     },
     "execution_count": 144,
     "metadata": {},
     "output_type": "execute_result"
    }
   ],
   "source": [
    "matrix_square_loss(Q,P,Y)"
   ]
  },
  {
   "cell_type": "code",
   "execution_count": 185,
   "metadata": {
    "collapsed": true
   },
   "outputs": [],
   "source": [
    "def matrix_factorization(R, P, Q, K, steps=5000, alpha=0.0002, beta=0.02):\n",
    "    errors = np.zeros(steps)\n",
    "    N = np.shape(R)[0]\n",
    "    M = np.shape(R)[1]\n",
    "    \n",
    "    for step in range(steps):\n",
    "        i,j = np.random.randint(N),np.random.randint(N)\n",
    "        E_ij = np.dot(P[i,:],Q[j,:]) - R[i,j]\n",
    "        \n",
    "    \n",
    "    \n",
    "    \n",
    "    \n",
    "    return P, Q, errors"
   ]
  },
  {
   "cell_type": "code",
   "execution_count": 187,
   "metadata": {
    "collapsed": false
   },
   "outputs": [],
   "source": [
    "N,M,errors = matrix_factorization(Y, Q, P, 2, steps=5000, alpha=0.0002, beta=0.0)"
   ]
  },
  {
   "cell_type": "code",
   "execution_count": 189,
   "metadata": {
    "collapsed": false
   },
   "outputs": [
    {
     "data": {
      "text/plain": [
       "[<matplotlib.lines.Line2D at 0x10eb79610>]"
      ]
     },
     "execution_count": 189,
     "metadata": {},
     "output_type": "execute_result"
    },
    {
     "data": {
      "image/png": "[encoded data removed]",
      "text/plain": [
       "<matplotlib.figure.Figure at 0x10e818550>"
      ]
     },
     "metadata": {},
     "output_type": "display_data"
    }
   ],
   "source": [
    "plt.plot(errors)"
   ]
  },
  {
   "cell_type": "code",
   "execution_count": 190,
   "metadata": {
    "collapsed": false
   },
   "outputs": [
    {
     "data": {
      "text/plain": [
       "119.3192200748111"
      ]
     },
     "execution_count": 190,
     "metadata": {},
     "output_type": "execute_result"
    }
   ],
   "source": [
    "matrix_square_loss(N,M,Y)"
   ]
  },
  {
   "cell_type": "code",
   "execution_count": null,
   "metadata": {
    "collapsed": false
   },
   "outputs": [],
   "source": [
    "tau_1 = np.zeros(N)\n",
    "tau_2 = np.zeros(M)\n",
    "\n",
    "U_awsgd = np.random.randn(N,K)\n",
    "V_awsgd = np.random.randn(M,K)\n",
    "\n",
    "U_sgd = np.random.randn(N,K)\n",
    "V_sgd = np.random.randn(M,K)\n",
    "\n",
    "\n",
    "\n",
    "num_iter = 500\n",
    "\n",
    "losses_awsgd = np.zeros(num_iter)\n",
    "losses_sgd = np.zeros(num_iter)\n",
    "\n",
    "for i in range(num_iter):\n",
    "    samp_row = create_dist(tau_1)\n",
    "    samp_col = create_dist(tau_2)\n",
    "    rate = 1.0/(N/2.0 + i)\n",
    "    losses_awsgd[i] = matrix_square_loss(U_awsgd,V_awsgd,Y)\n",
    "    n,m = samp_row.rvs(), samp_col.rvs()\n",
    "    U_awsgd[n,:], V_awsgd[m,:], tau_1, tau_2 = AW_sgd_update(U_awsgd,V_awsgd,Y,n,m,0.001,\n",
    "                                                             samp_row,samp_col,0.0,tau_1,tau_2)\n",
    "    \n",
    "    p,r = np.random.randint(N), np.random.randint(N)\n",
    "    \n",
    "    U_sgd[p,:],V_sgd[r,:] = sgd_update(U_sgd,V_sgd,Y,p,r,0.001)\n",
    "    losses_sgd[i] = matrix_square_loss(U_sgd,V_sgd,Y)\n",
    "\n",
    "    \n",
    "\n",
    "plt.plot(losses_awsgd,c ='red')    \n",
    "plt.hold\n",
    "plt.plot(losses_sgd,c = 'blue')\n",
    "\n"
   ]
  },
  {
   "cell_type": "code",
   "execution_count": null,
   "metadata": {
    "collapsed": false
   },
   "outputs": [],
   "source": []
  },
  {
   "cell_type": "code",
   "execution_count": null,
   "metadata": {
    "collapsed": false
   },
   "outputs": [],
   "source": []
  },
  {
   "cell_type": "code",
   "execution_count": null,
   "metadata": {
    "collapsed": true
   },
   "outputs": [],
   "source": []
  }
 ],
 "metadata": {
  "kernelspec": {
   "display_name": "Python 2",
   "language": "python",
   "name": "python2"
  },
  "language_info": {
   "codemirror_mode": {
    "name": "ipython",
    "version": 2
   },
   "file_extension": ".py",
   "mimetype": "text/x-python",
   "name": "python",
   "nbconvert_exporter": "python",
   "pygments_lexer": "ipython2",
   "version": "2.7.10"
  }
 },
 "nbformat": 4,
 "nbformat_minor": 0
}
